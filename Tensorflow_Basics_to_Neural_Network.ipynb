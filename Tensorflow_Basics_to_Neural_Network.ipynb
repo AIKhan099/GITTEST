{
  "nbformat": 4,
  "nbformat_minor": 0,
  "metadata": {
    "colab": {
      "name": "Tensorflow Basics to Neural Network.ipynb",
      "provenance": [],
      "collapsed_sections": [
        "bLIKsNZ5s_Ib",
        "bgHj345LFVch",
        "MU4ync4EsE7w"
      ]
    },
    "kernelspec": {
      "display_name": "Python 3",
      "name": "python3"
    }
  },
  "cells": [
    {
      "cell_type": "code",
      "metadata": {
        "id": "huoFl5CKTVa1"
      },
      "source": [
        "import tensorflow as tf"
      ],
      "execution_count": 75,
      "outputs": []
    },
    {
      "cell_type": "code",
      "metadata": {
        "colab": {
          "base_uri": "https://localhost:8080/"
        },
        "id": "h2_Xb0ktTYOT",
        "outputId": "37f7b431-f8f3-4960-ce48-6ad29915faca"
      },
      "source": [
        "print(tf.version)"
      ],
      "execution_count": 76,
      "outputs": [
        {
          "output_type": "stream",
          "text": [
            "<module 'tensorflow._api.v2.version' from '/usr/local/lib/python3.7/dist-packages/tensorflow/_api/v2/version/__init__.py'>\n"
          ],
          "name": "stdout"
        }
      ]
    },
    {
      "cell_type": "markdown",
      "metadata": {
        "id": "beB6l_CoW01X"
      },
      "source": [
        "**Creating Tensors**\r\n",
        "\r\n",
        "Below is an example of how to create some different tensors.\r\n",
        "\r\n",
        "You simply define the value of the tensor and the datatype and you are good to go! It's worth mentioning that usually we deal with tensors of numeric data, it is quite rare to see string tensors.\r\n",
        "\r\n",
        "For a full list of datatypes please refer to the following guide."
      ]
    },
    {
      "cell_type": "code",
      "metadata": {
        "id": "iKNiyI-OWwJB"
      },
      "source": [
        ""
      ],
      "execution_count": 76,
      "outputs": []
    },
    {
      "cell_type": "code",
      "metadata": {
        "colab": {
          "base_uri": "https://localhost:8080/"
        },
        "id": "46aF_r9kTgbK",
        "outputId": "581ca22b-87d1-4e0d-955c-2431806467c4"
      },
      "source": [
        "strng= tf.Variable(\"this is a string\", tf.string)\r\n",
        "strng"
      ],
      "execution_count": 77,
      "outputs": [
        {
          "output_type": "execute_result",
          "data": {
            "text/plain": [
              "<tf.Variable 'Variable:0' shape=() dtype=string, numpy=b'this is a string'>"
            ]
          },
          "metadata": {
            "tags": []
          },
          "execution_count": 77
        }
      ]
    },
    {
      "cell_type": "code",
      "metadata": {
        "colab": {
          "base_uri": "https://localhost:8080/"
        },
        "id": "VRsy6h49WFxG",
        "outputId": "f601e50c-7a6f-4cec-ecf1-d8a180751499"
      },
      "source": [
        "Intgr= tf.Variable(444, tf.int16)\r\n",
        "Intgr"
      ],
      "execution_count": 78,
      "outputs": [
        {
          "output_type": "execute_result",
          "data": {
            "text/plain": [
              "<tf.Variable 'Variable:0' shape=() dtype=int32, numpy=444>"
            ]
          },
          "metadata": {
            "tags": []
          },
          "execution_count": 78
        }
      ]
    },
    {
      "cell_type": "code",
      "metadata": {
        "colab": {
          "base_uri": "https://localhost:8080/"
        },
        "id": "wu1zAeErWWb5",
        "outputId": "f5df988a-776b-463e-87c5-6abadc8b5f2d"
      },
      "source": [
        "floating = tf.Variable(3.567, tf.float64)\r\n",
        "floating"
      ],
      "execution_count": 79,
      "outputs": [
        {
          "output_type": "execute_result",
          "data": {
            "text/plain": [
              "<tf.Variable 'Variable:0' shape=() dtype=float32, numpy=3.567>"
            ]
          },
          "metadata": {
            "tags": []
          },
          "execution_count": 79
        }
      ]
    },
    {
      "cell_type": "markdown",
      "metadata": {
        "id": "UEir35xsXr3A"
      },
      "source": [
        ""
      ]
    },
    {
      "cell_type": "markdown",
      "metadata": {
        "id": "eAUpAu4oXun8"
      },
      "source": [
        "## Rank/Degree of Tensors"
      ]
    },
    {
      "cell_type": "code",
      "metadata": {
        "id": "WITMLXb8Xx09"
      },
      "source": [
        "rank1_tensor = tf.Variable([\"Test\"], tf.string) # 1 degree/rank: bec have single list.\r\n",
        "rank2_tensor = tf.Variable([[\"test\", \"ok\"], [\"test\", \"yes\"]], tf.string)# 2 degree/rank: bec have list within list."
      ],
      "execution_count": 80,
      "outputs": []
    },
    {
      "cell_type": "code",
      "metadata": {
        "colab": {
          "base_uri": "https://localhost:8080/"
        },
        "id": "4c90YhcoYCUi",
        "outputId": "d6199880-60f6-40bd-8813-713b5379ebf4"
      },
      "source": [
        "rank1_tensor\r\n",
        "rank2_tensor"
      ],
      "execution_count": 81,
      "outputs": [
        {
          "output_type": "execute_result",
          "data": {
            "text/plain": [
              "<tf.Variable 'Variable:0' shape=(2, 2) dtype=string, numpy=\n",
              "array([[b'test', b'ok'],\n",
              "       [b'test', b'yes']], dtype=object)>"
            ]
          },
          "metadata": {
            "tags": []
          },
          "execution_count": 81
        }
      ]
    },
    {
      "cell_type": "code",
      "metadata": {
        "colab": {
          "base_uri": "https://localhost:8080/"
        },
        "id": "GH6jq0euYFsO",
        "outputId": "00342338-9be9-46c7-f037-860e3ef52951"
      },
      "source": [
        "tf.rank(rank1_tensor) #check, numpy=1"
      ],
      "execution_count": 82,
      "outputs": [
        {
          "output_type": "execute_result",
          "data": {
            "text/plain": [
              "<tf.Tensor: shape=(), dtype=int32, numpy=1>"
            ]
          },
          "metadata": {
            "tags": []
          },
          "execution_count": 82
        }
      ]
    },
    {
      "cell_type": "code",
      "metadata": {
        "colab": {
          "base_uri": "https://localhost:8080/"
        },
        "id": "kEaujGX2YUEn",
        "outputId": "5afab59a-1552-4afd-8f67-d47f02568e62"
      },
      "source": [
        "tf.rank(rank2_tensor)   #check, numpy=2"
      ],
      "execution_count": 83,
      "outputs": [
        {
          "output_type": "execute_result",
          "data": {
            "text/plain": [
              "<tf.Tensor: shape=(), dtype=int32, numpy=2>"
            ]
          },
          "metadata": {
            "tags": []
          },
          "execution_count": 83
        }
      ]
    },
    {
      "cell_type": "markdown",
      "metadata": {
        "id": "A0FUHzZSYthw"
      },
      "source": [
        "## Shape:"
      ]
    },
    {
      "cell_type": "code",
      "metadata": {
        "colab": {
          "base_uri": "https://localhost:8080/"
        },
        "id": "J3s1OvHIYvWf",
        "outputId": "caed670a-22ac-4eae-c355-5182d4620b7e"
      },
      "source": [
        "rank2_tensor.shape"
      ],
      "execution_count": 84,
      "outputs": [
        {
          "output_type": "execute_result",
          "data": {
            "text/plain": [
              "TensorShape([2, 2])"
            ]
          },
          "metadata": {
            "tags": []
          },
          "execution_count": 84
        }
      ]
    },
    {
      "cell_type": "markdown",
      "metadata": {
        "id": "fp6tMrgzY-1F"
      },
      "source": [
        "Two lists and each one has 2 elements."
      ]
    },
    {
      "cell_type": "markdown",
      "metadata": {
        "id": "kbbGG8eob9ZY"
      },
      "source": [
        "\r\n",
        "# Changing Shape\r\n",
        "The **number of elements of a tensor is the product of the sizes of all its shapes**. There are often many shapes that have the same number of elements, making it convient to be able to change the shape of a tensor."
      ]
    },
    {
      "cell_type": "code",
      "metadata": {
        "id": "-jmKQ19xcNQ0"
      },
      "source": [
        "tensor1 = tf.ones([1,2,3])  # tf.ones() creates a shape [1,2,3] tensor full of ones\r\n",
        "tensor2 = tf.reshape(tensor1, [2,3,1])  # reshape existing data to shape [2,3,1]\r\n",
        "tensor3 = tf.reshape(tensor2, [3, -1])  # -1 tells the tensor to calculate the size of the dimension in that place\r\n",
        "                                        # this will reshape the tensor to [3,2]\r\n",
        "                                                                             \r\n",
        "# The numer of elements in the reshaped tensor MUST match the number in the original"
      ],
      "execution_count": 85,
      "outputs": []
    },
    {
      "cell_type": "code",
      "metadata": {
        "colab": {
          "base_uri": "https://localhost:8080/"
        },
        "id": "h0LWssjBcZ3U",
        "outputId": "ac039642-3163-41ff-f148-aa53f92bcacc"
      },
      "source": [
        "print(tensor1) # shape(identical matrices, rows, columns)"
      ],
      "execution_count": 86,
      "outputs": [
        {
          "output_type": "stream",
          "text": [
            "tf.Tensor(\n",
            "[[[1. 1. 1.]\n",
            "  [1. 1. 1.]]], shape=(1, 2, 3), dtype=float32)\n"
          ],
          "name": "stdout"
        }
      ]
    },
    {
      "cell_type": "code",
      "metadata": {
        "colab": {
          "base_uri": "https://localhost:8080/"
        },
        "id": "F4gsVIeNcgwr",
        "outputId": "c4395055-2726-4937-bbd0-e50bf9ad852d"
      },
      "source": [
        "print(tensor2) # reshaping "
      ],
      "execution_count": 87,
      "outputs": [
        {
          "output_type": "stream",
          "text": [
            "tf.Tensor(\n",
            "[[[1.]\n",
            "  [1.]\n",
            "  [1.]]\n",
            "\n",
            " [[1.]\n",
            "  [1.]\n",
            "  [1.]]], shape=(2, 3, 1), dtype=float32)\n"
          ],
          "name": "stdout"
        }
      ]
    },
    {
      "cell_type": "code",
      "metadata": {
        "colab": {
          "base_uri": "https://localhost:8080/"
        },
        "id": "X2vjbcd7c6sZ",
        "outputId": "ede1c446-3524-4b23-ae45-1bf200040bfa"
      },
      "source": [
        " tensor3 = tf.reshape(tensor2, [3, -1])\r\n",
        " print(tensor3)                           # -1 tells the tensor to calculate the size of the dimension in that place\r\n",
        "                                        # this will reshape the tensor to [3,2] .\r\n",
        "\r\n",
        "                                        "
      ],
      "execution_count": 88,
      "outputs": [
        {
          "output_type": "stream",
          "text": [
            "tf.Tensor(\n",
            "[[1. 1.]\n",
            " [1. 1.]\n",
            " [1. 1.]], shape=(3, 2), dtype=float32)\n"
          ],
          "name": "stdout"
        }
      ]
    },
    {
      "cell_type": "code",
      "metadata": {
        "colab": {
          "base_uri": "https://localhost:8080/"
        },
        "id": "RyvbKWHIdOc7",
        "outputId": "6823344f-969c-45cc-ea2d-13c443e298e6"
      },
      "source": [
        " tensor4 = tf.reshape(tensor2, [2,-1]) #(1,2)\r\n",
        "print(tensor4)"
      ],
      "execution_count": 89,
      "outputs": [
        {
          "output_type": "stream",
          "text": [
            "tf.Tensor(\n",
            "[[1. 1. 1.]\n",
            " [1. 1. 1.]], shape=(2, 3), dtype=float32)\n"
          ],
          "name": "stdout"
        }
      ]
    },
    {
      "cell_type": "markdown",
      "metadata": {
        "id": "YYwHTGeFg_Sw"
      },
      "source": [
        "Concept of -1 is not clear."
      ]
    },
    {
      "cell_type": "code",
      "metadata": {
        "id": "5qXrvhQRhDUj"
      },
      "source": [
        ""
      ],
      "execution_count": 89,
      "outputs": []
    },
    {
      "cell_type": "markdown",
      "metadata": {
        "id": "XtbiOvpVr3JT"
      },
      "source": [
        "## Slicing Tensors"
      ]
    },
    {
      "cell_type": "code",
      "metadata": {
        "colab": {
          "base_uri": "https://localhost:8080/"
        },
        "id": "fiiX-gMCr4tm",
        "outputId": "2dd48be4-e9b8-4e3c-b2d7-38e4612128ec"
      },
      "source": [
        "# Creating a 2D tensor\r\n",
        "matrix = [[1,2,3,4,5],\r\n",
        "          [6,7,8,9,10],\r\n",
        "          [11,12,13,14,15],\r\n",
        "          [16,17,18,19,20]]\r\n",
        "tensor = tf.Variable(matrix, dtype=tf.int32) \r\n",
        "print(tf.rank(tensor))\r\n",
        "print(tensor.shape)"
      ],
      "execution_count": 90,
      "outputs": [
        {
          "output_type": "stream",
          "text": [
            "tf.Tensor(2, shape=(), dtype=int32)\n",
            "(4, 5)\n"
          ],
          "name": "stdout"
        }
      ]
    },
    {
      "cell_type": "code",
      "metadata": {
        "colab": {
          "base_uri": "https://localhost:8080/"
        },
        "id": "PXWb7_hbsEfI",
        "outputId": "41acabdc-d293-4b59-be09-667a6f1cfcda"
      },
      "source": [
        " #Now lets select some different rows and columns from our tensor\r\n",
        "\r\n",
        "three = tensor[0,2]  # selects the 3rd element from the 1st row\r\n",
        "print(three)  # -> 3"
      ],
      "execution_count": 91,
      "outputs": [
        {
          "output_type": "stream",
          "text": [
            "tf.Tensor(3, shape=(), dtype=int32)\n"
          ],
          "name": "stdout"
        }
      ]
    },
    {
      "cell_type": "markdown",
      "metadata": {
        "id": "bLIKsNZ5s_Ib"
      },
      "source": [
        "\r\n",
        "# Types of Tensors\r\n",
        "\r\n",
        "\r\n",
        "Before we go to far, I will mention that there are diffent types of tensors. These are the most used and we will talk more in depth about each as they are used.\r\n",
        "\r\n",
        "Variable\r\n",
        "Constant\r\n",
        "Placeholder\r\n",
        "SparseTensor\r\n",
        "**With the execption of Variable all these tensors are immuttable,** meaning their value may not change during execution.\r\n",
        "\r\n",
        "For now, it is enough to understand that we use the Variable tensor when we want to potentially change the value of our tensor."
      ]
    },
    {
      "cell_type": "markdown",
      "metadata": {
        "id": "XsMxrem-tYJI"
      },
      "source": [
        "\r\n",
        "# Sources\r\n",
        "\r\n",
        "Most of the information is taken direclty from the TensorFlow website which can be found below.\r\n",
        "\r\n",
        "https://www.tensorflow.org/guide/tensor"
      ]
    },
    {
      "cell_type": "code",
      "metadata": {
        "colab": {
          "base_uri": "https://localhost:8080/"
        },
        "id": "EWlf9-1TsFLU",
        "outputId": "9d238953-d821-47c4-c7e5-cd4b3e234e8c"
      },
      "source": [
        "t=tf.zeros([2,2,2,2])\r\n",
        "t"
      ],
      "execution_count": 92,
      "outputs": [
        {
          "output_type": "execute_result",
          "data": {
            "text/plain": [
              "<tf.Tensor: shape=(2, 2, 2, 2), dtype=float32, numpy=\n",
              "array([[[[0., 0.],\n",
              "         [0., 0.]],\n",
              "\n",
              "        [[0., 0.],\n",
              "         [0., 0.]]],\n",
              "\n",
              "\n",
              "       [[[0., 0.],\n",
              "         [0., 0.]],\n",
              "\n",
              "        [[0., 0.],\n",
              "         [0., 0.]]]], dtype=float32)>"
            ]
          },
          "metadata": {
            "tags": []
          },
          "execution_count": 92
        }
      ]
    },
    {
      "cell_type": "code",
      "metadata": {
        "colab": {
          "base_uri": "https://localhost:8080/"
        },
        "id": "aRfPqbvvuaah",
        "outputId": "b15692e1-45ac-4d26-9efa-f27292d76277"
      },
      "source": [
        "z=tf.reshape(t,[16])# create array of single row, 2*2*2*2=16\r\n",
        "z"
      ],
      "execution_count": 93,
      "outputs": [
        {
          "output_type": "execute_result",
          "data": {
            "text/plain": [
              "<tf.Tensor: shape=(16,), dtype=float32, numpy=\n",
              "array([0., 0., 0., 0., 0., 0., 0., 0., 0., 0., 0., 0., 0., 0., 0., 0.],\n",
              "      dtype=float32)>"
            ]
          },
          "metadata": {
            "tags": []
          },
          "execution_count": 93
        }
      ]
    },
    {
      "cell_type": "code",
      "metadata": {
        "colab": {
          "base_uri": "https://localhost:8080/"
        },
        "id": "mpM0nCX2u1WC",
        "outputId": "0275ef15-1788-4e92-d05a-ba875b56e1bd"
      },
      "source": [
        "e=tf.reshape(t,[8, -1]) # this method will create as much rows as mentioned in the first element.\r\n",
        "e"
      ],
      "execution_count": 94,
      "outputs": [
        {
          "output_type": "execute_result",
          "data": {
            "text/plain": [
              "<tf.Tensor: shape=(8, 2), dtype=float32, numpy=\n",
              "array([[0., 0.],\n",
              "       [0., 0.],\n",
              "       [0., 0.],\n",
              "       [0., 0.],\n",
              "       [0., 0.],\n",
              "       [0., 0.],\n",
              "       [0., 0.],\n",
              "       [0., 0.]], dtype=float32)>"
            ]
          },
          "metadata": {
            "tags": []
          },
          "execution_count": 94
        }
      ]
    },
    {
      "cell_type": "markdown",
      "metadata": {
        "id": "8bmSzyPfmZHv"
      },
      "source": [
        "#TensorFlow Core Learning Algorithms\r\n",
        "\r\n",
        "The algorithms we will focus on include:\r\n",
        "\r\n",
        "\r\n",
        "  Linear Regression\r\n",
        "\r\n",
        "  Classification\r\n",
        "  \r\n",
        "  Clustering\r\n",
        "  \r\n",
        "  Hidden Markov Models\r\n",
        "\r\n",
        "It is worth noting that there are many tools within TensorFlow that could be used to solve the problems we will see below. I have chosen the tools that I belive give the most variety and are easiest to use.\r\n"
      ]
    },
    {
      "cell_type": "markdown",
      "metadata": {
        "id": "_5JqXDcAnZub"
      },
      "source": [
        "#Linear Regression\r\n",
        "Linear regression is one of the most basic forms of machine learning and is used to predict numeric values.\r\n",
        "\r\n",
        "In this tutorial we will use a linear model to predict the survival rate of passangers from the titanic dataset.\r\n",
        "\r\n",
        "This section is based on the following documentation: https://www.tensorflow.org/tutorials/estimator/linear"
      ]
    },
    {
      "cell_type": "markdown",
      "metadata": {
        "id": "wtEFKokuno7z"
      },
      "source": [
        "###How it Works\r\n",
        "\r\n",
        "Linear regression follows a very simple concept. **If data points are related linearly, we can generate a line of best fit for these points and use it to predict future values.**\r\n",
        "\r\n",
        "Let's take an example of a data set with one feature and one label.\r\n",
        "\r\n"
      ]
    },
    {
      "cell_type": "code",
      "metadata": {
        "id": "LLOmSDlEmWiB"
      },
      "source": [
        ""
      ],
      "execution_count": 94,
      "outputs": []
    },
    {
      "cell_type": "code",
      "metadata": {
        "colab": {
          "base_uri": "https://localhost:8080/",
          "height": 286
        },
        "id": "s5yYEWo8vVsX",
        "outputId": "59efcf01-a796-4e1c-f61b-c463dfaad945"
      },
      "source": [
        "import matplotlib.pyplot as plt\r\n",
        "import numpy as np\r\n",
        "\r\n",
        "x = [1, 2, 2.5, 3, 4]\r\n",
        "y = [1, 4, 7, 9, 15]\r\n",
        "plt.plot(x, y, 'ro') # ro: plot with red circles.\r\n",
        "plt.axis([0, 6, 0, 20])"
      ],
      "execution_count": 95,
      "outputs": [
        {
          "output_type": "execute_result",
          "data": {
            "text/plain": [
              "(0.0, 6.0, 0.0, 20.0)"
            ]
          },
          "metadata": {
            "tags": []
          },
          "execution_count": 95
        },
        {
          "output_type": "display_data",
          "data": {
            "image/png": "[encoded data removed]",
            "text/plain": [
              "<Figure size 432x288 with 1 Axes>"
            ]
          },
          "metadata": {
            "tags": [],
            "needs_background": "light"
          }
        }
      ]
    },
    {
      "cell_type": "markdown",
      "metadata": {
        "id": "Bc0G8k9foPR_"
      },
      "source": [
        "We can see that this data has a linear coorespondence. When the x value increases, so does the y. Because of this relation we can create a line of best fit for this dataset. In this example our line will only use one input variable, as we are working with two dimensions. In larger datasets with more features our line will have more features and inputs.\r\n",
        "\r\n",
        "\"Line of best fit refers to a line through a scatter plot of data points that best expresses the relationship between those points.\" (https://www.investopedia.com/terms/l/line-of-best-fit.asp)\r\n",
        "\r\n",
        "Here's a refresher on the equation of a line in 2D.\r\n",
        "\r\n",
        "y=mx+b \r\n",
        "\r\n",
        "Here's an example of a line of best fit for this graph."
      ]
    },
    {
      "cell_type": "code",
      "metadata": {
        "id": "B4t8cbDH7g1j"
      },
      "source": [
        "!pip install -q sklearn"
      ],
      "execution_count": 96,
      "outputs": []
    },
    {
      "cell_type": "code",
      "metadata": {
        "id": "2oTh8HL3Q-sh"
      },
      "source": [
        "from __future__ import absolute_import, division, print_function, unicode_literals\r\n",
        "\r\n",
        "import numpy as np\r\n",
        "import pandas as pd\r\n",
        "import matplotlib.pyplot as plt\r\n",
        "from IPython.display import clear_output\r\n",
        "from six.moves import urllib\r\n",
        "\r\n",
        "import tensorflow.compat.v2.feature_column as fc\r\n",
        "\r\n",
        "import tensorflow as tf"
      ],
      "execution_count": 97,
      "outputs": []
    },
    {
      "cell_type": "markdown",
      "metadata": {
        "id": "rq886xm10Q7X"
      },
      "source": [
        "The dataset we will be focusing on here is the titanic dataset. It has tons of information about each passanger on the ship. Our first step is always to understand the data and explore it. So, let's do that!\r\n",
        "\r\n"
      ]
    },
    {
      "cell_type": "code",
      "metadata": {
        "id": "E4Y8lpeeRIPn"
      },
      "source": [
        "# Load dataset.\r\n",
        "dftrain = pd.read_csv('https://storage.googleapis.com/tf-datasets/titanic/train.csv') # training data\r\n",
        "dfeval = pd.read_csv('https://storage.googleapis.com/tf-datasets/titanic/eval.csv') # testing data\r\n",
        "y_train = dftrain.pop('survived')\r\n",
        "y_eval = dfeval.pop('survived')"
      ],
      "execution_count": 98,
      "outputs": []
    },
    {
      "cell_type": "code",
      "metadata": {
        "colab": {
          "base_uri": "https://localhost:8080/",
          "height": 204
        },
        "id": "T-s5Fmmf0ZUF",
        "outputId": "2db88df0-1bb7-4627-af6b-6bd406ed5bd6"
      },
      "source": [
        "dftrain.head()"
      ],
      "execution_count": 99,
      "outputs": [
        {
          "output_type": "execute_result",
          "data": {
            "text/html": [
              "<div>\n",
              "<style scoped>\n",
              "    .dataframe tbody tr th:only-of-type {\n",
              "        vertical-align: middle;\n",
              "    }\n",
              "\n",
              "    .dataframe tbody tr th {\n",
              "        vertical-align: top;\n",
              "    }\n",
              "\n",
              "    .dataframe thead th {\n",
              "        text-align: right;\n",
              "    }\n",
              "</style>\n",
              "<table border=\"1\" class=\"dataframe\">\n",
              "  <thead>\n",
              "    <tr style=\"text-align: right;\">\n",
              "      <th></th>\n",
              "      <th>sex</th>\n",
              "      <th>age</th>\n",
              "      <th>n_siblings_spouses</th>\n",
              "      <th>parch</th>\n",
              "      <th>fare</th>\n",
              "      <th>class</th>\n",
              "      <th>deck</th>\n",
              "      <th>embark_town</th>\n",
              "      <th>alone</th>\n",
              "    </tr>\n",
              "  </thead>\n",
              "  <tbody>\n",
              "    <tr>\n",
              "      <th>0</th>\n",
              "      <td>male</td>\n",
              "      <td>22.0</td>\n",
              "      <td>1</td>\n",
              "      <td>0</td>\n",
              "      <td>7.2500</td>\n",
              "      <td>Third</td>\n",
              "      <td>unknown</td>\n",
              "      <td>Southampton</td>\n",
              "      <td>n</td>\n",
              "    </tr>\n",
              "    <tr>\n",
              "      <th>1</th>\n",
              "      <td>female</td>\n",
              "      <td>38.0</td>\n",
              "      <td>1</td>\n",
              "      <td>0</td>\n",
              "      <td>71.2833</td>\n",
              "      <td>First</td>\n",
              "      <td>C</td>\n",
              "      <td>Cherbourg</td>\n",
              "      <td>n</td>\n",
              "    </tr>\n",
              "    <tr>\n",
              "      <th>2</th>\n",
              "      <td>female</td>\n",
              "      <td>26.0</td>\n",
              "      <td>0</td>\n",
              "      <td>0</td>\n",
              "      <td>7.9250</td>\n",
              "      <td>Third</td>\n",
              "      <td>unknown</td>\n",
              "      <td>Southampton</td>\n",
              "      <td>y</td>\n",
              "    </tr>\n",
              "    <tr>\n",
              "      <th>3</th>\n",
              "      <td>female</td>\n",
              "      <td>35.0</td>\n",
              "      <td>1</td>\n",
              "      <td>0</td>\n",
              "      <td>53.1000</td>\n",
              "      <td>First</td>\n",
              "      <td>C</td>\n",
              "      <td>Southampton</td>\n",
              "      <td>n</td>\n",
              "    </tr>\n",
              "    <tr>\n",
              "      <th>4</th>\n",
              "      <td>male</td>\n",
              "      <td>28.0</td>\n",
              "      <td>0</td>\n",
              "      <td>0</td>\n",
              "      <td>8.4583</td>\n",
              "      <td>Third</td>\n",
              "      <td>unknown</td>\n",
              "      <td>Queenstown</td>\n",
              "      <td>y</td>\n",
              "    </tr>\n",
              "  </tbody>\n",
              "</table>\n",
              "</div>"
            ],
            "text/plain": [
              "      sex   age  n_siblings_spouses  parch  ...  class     deck  embark_town alone\n",
              "0    male  22.0                   1      0  ...  Third  unknown  Southampton     n\n",
              "1  female  38.0                   1      0  ...  First        C    Cherbourg     n\n",
              "2  female  26.0                   0      0  ...  Third  unknown  Southampton     y\n",
              "3  female  35.0                   1      0  ...  First        C  Southampton     n\n",
              "4    male  28.0                   0      0  ...  Third  unknown   Queenstown     y\n",
              "\n",
              "[5 rows x 9 columns]"
            ]
          },
          "metadata": {
            "tags": []
          },
          "execution_count": 99
        }
      ]
    },
    {
      "cell_type": "markdown",
      "metadata": {
        "id": "Hhz9q0970lBz"
      },
      "source": [
        "And if we want a more statistical analysis of our data we can use the .describe() method."
      ]
    },
    {
      "cell_type": "code",
      "metadata": {
        "colab": {
          "base_uri": "https://localhost:8080/",
          "height": 297
        },
        "id": "4FKMcJpV0gr6",
        "outputId": "bfd3a1c8-83a1-46e6-e444-e8088f886b83"
      },
      "source": [
        "dftrain.describe()"
      ],
      "execution_count": 100,
      "outputs": [
        {
          "output_type": "execute_result",
          "data": {
            "text/html": [
              "<div>\n",
              "<style scoped>\n",
              "    .dataframe tbody tr th:only-of-type {\n",
              "        vertical-align: middle;\n",
              "    }\n",
              "\n",
              "    .dataframe tbody tr th {\n",
              "        vertical-align: top;\n",
              "    }\n",
              "\n",
              "    .dataframe thead th {\n",
              "        text-align: right;\n",
              "    }\n",
              "</style>\n",
              "<table border=\"1\" class=\"dataframe\">\n",
              "  <thead>\n",
              "    <tr style=\"text-align: right;\">\n",
              "      <th></th>\n",
              "      <th>age</th>\n",
              "      <th>n_siblings_spouses</th>\n",
              "      <th>parch</th>\n",
              "      <th>fare</th>\n",
              "    </tr>\n",
              "  </thead>\n",
              "  <tbody>\n",
              "    <tr>\n",
              "      <th>count</th>\n",
              "      <td>627.000000</td>\n",
              "      <td>627.000000</td>\n",
              "      <td>627.000000</td>\n",
              "      <td>627.000000</td>\n",
              "    </tr>\n",
              "    <tr>\n",
              "      <th>mean</th>\n",
              "      <td>29.631308</td>\n",
              "      <td>0.545455</td>\n",
              "      <td>0.379585</td>\n",
              "      <td>34.385399</td>\n",
              "    </tr>\n",
              "    <tr>\n",
              "      <th>std</th>\n",
              "      <td>12.511818</td>\n",
              "      <td>1.151090</td>\n",
              "      <td>0.792999</td>\n",
              "      <td>54.597730</td>\n",
              "    </tr>\n",
              "    <tr>\n",
              "      <th>min</th>\n",
              "      <td>0.750000</td>\n",
              "      <td>0.000000</td>\n",
              "      <td>0.000000</td>\n",
              "      <td>0.000000</td>\n",
              "    </tr>\n",
              "    <tr>\n",
              "      <th>25%</th>\n",
              "      <td>23.000000</td>\n",
              "      <td>0.000000</td>\n",
              "      <td>0.000000</td>\n",
              "      <td>7.895800</td>\n",
              "    </tr>\n",
              "    <tr>\n",
              "      <th>50%</th>\n",
              "      <td>28.000000</td>\n",
              "      <td>0.000000</td>\n",
              "      <td>0.000000</td>\n",
              "      <td>15.045800</td>\n",
              "    </tr>\n",
              "    <tr>\n",
              "      <th>75%</th>\n",
              "      <td>35.000000</td>\n",
              "      <td>1.000000</td>\n",
              "      <td>0.000000</td>\n",
              "      <td>31.387500</td>\n",
              "    </tr>\n",
              "    <tr>\n",
              "      <th>max</th>\n",
              "      <td>80.000000</td>\n",
              "      <td>8.000000</td>\n",
              "      <td>5.000000</td>\n",
              "      <td>512.329200</td>\n",
              "    </tr>\n",
              "  </tbody>\n",
              "</table>\n",
              "</div>"
            ],
            "text/plain": [
              "              age  n_siblings_spouses       parch        fare\n",
              "count  627.000000          627.000000  627.000000  627.000000\n",
              "mean    29.631308            0.545455    0.379585   34.385399\n",
              "std     12.511818            1.151090    0.792999   54.597730\n",
              "min      0.750000            0.000000    0.000000    0.000000\n",
              "25%     23.000000            0.000000    0.000000    7.895800\n",
              "50%     28.000000            0.000000    0.000000   15.045800\n",
              "75%     35.000000            1.000000    0.000000   31.387500\n",
              "max     80.000000            8.000000    5.000000  512.329200"
            ]
          },
          "metadata": {
            "tags": []
          },
          "execution_count": 100
        }
      ]
    },
    {
      "cell_type": "code",
      "metadata": {
        "colab": {
          "base_uri": "https://localhost:8080/"
        },
        "id": "ME6jw9G60zbC",
        "outputId": "3726bd47-420a-43a5-f70c-92c1c53d439d"
      },
      "source": [
        "dftrain.shape"
      ],
      "execution_count": 101,
      "outputs": [
        {
          "output_type": "execute_result",
          "data": {
            "text/plain": [
              "(627, 9)"
            ]
          },
          "metadata": {
            "tags": []
          },
          "execution_count": 101
        }
      ]
    },
    {
      "cell_type": "markdown",
      "metadata": {
        "id": "KgrqlPf901Uc"
      },
      "source": [
        "So have have 627 entries and 9 features, nice!\r\n",
        "\r\n",
        "Now let's have a look at our survival information."
      ]
    },
    {
      "cell_type": "code",
      "metadata": {
        "colab": {
          "base_uri": "https://localhost:8080/"
        },
        "id": "aQxdJwzA045h",
        "outputId": "a9162b5a-586a-444c-bc5a-7a504a9d64ec"
      },
      "source": [
        "y_train.head()"
      ],
      "execution_count": 102,
      "outputs": [
        {
          "output_type": "execute_result",
          "data": {
            "text/plain": [
              "0    0\n",
              "1    1\n",
              "2    1\n",
              "3    1\n",
              "4    0\n",
              "Name: survived, dtype: int64"
            ]
          },
          "metadata": {
            "tags": []
          },
          "execution_count": 102
        }
      ]
    },
    {
      "cell_type": "markdown",
      "metadata": {
        "id": "0CCyy-G_1Ezv"
      },
      "source": [
        "And now because visuals are always valuable let's generate a few graphs of the data."
      ]
    },
    {
      "cell_type": "code",
      "metadata": {
        "colab": {
          "base_uri": "https://localhost:8080/",
          "height": 282
        },
        "id": "6Ra_A0BR09Ae",
        "outputId": "d02b59e4-5217-4df4-c002-d5109c2bfa5b"
      },
      "source": [
        "dftrain.age.hist(bins=20)"
      ],
      "execution_count": 103,
      "outputs": [
        {
          "output_type": "execute_result",
          "data": {
            "text/plain": [
              "<matplotlib.axes._subplots.AxesSubplot at 0x7ff062263ed0>"
            ]
          },
          "metadata": {
            "tags": []
          },
          "execution_count": 103
        },
        {
          "output_type": "display_data",
          "data": {
            "image/png": "[encoded data removed]",
            "text/plain": [
              "<Figure size 432x288 with 1 Axes>"
            ]
          },
          "metadata": {
            "tags": [],
            "needs_background": "light"
          }
        }
      ]
    },
    {
      "cell_type": "code",
      "metadata": {
        "colab": {
          "base_uri": "https://localhost:8080/",
          "height": 282
        },
        "id": "H32ARBbn1STl",
        "outputId": "7e01b0ca-ecb4-4de7-afef-8a7b28dd9822"
      },
      "source": [
        "dftrain.sex.value_counts().plot(kind='barh') "
      ],
      "execution_count": 104,
      "outputs": [
        {
          "output_type": "execute_result",
          "data": {
            "text/plain": [
              "<matplotlib.axes._subplots.AxesSubplot at 0x7ff0203d9810>"
            ]
          },
          "metadata": {
            "tags": []
          },
          "execution_count": 104
        },
        {
          "output_type": "display_data",
          "data": {
            "image/png": "[encoded data removed]",
            "text/plain": [
              "<Figure size 432x288 with 1 Axes>"
            ]
          },
          "metadata": {
            "tags": [],
            "needs_background": "light"
          }
        }
      ]
    },
    {
      "cell_type": "markdown",
      "metadata": {
        "id": "2vw5VInW1ytA"
      },
      "source": [
        "In above graph, total number of males and females are represented in graph by using value_count() methods."
      ]
    },
    {
      "cell_type": "code",
      "metadata": {
        "colab": {
          "base_uri": "https://localhost:8080/",
          "height": 880
        },
        "id": "5e1AlCph2AZt",
        "outputId": "b485370b-bd30-4bf7-c41d-d28f1f9d7f5d"
      },
      "source": [
        "dftrain.age[::15].value_counts().plot(kind='barh', figsize= (10,15)) "
      ],
      "execution_count": 105,
      "outputs": [
        {
          "output_type": "execute_result",
          "data": {
            "text/plain": [
              "<matplotlib.axes._subplots.AxesSubplot at 0x7ff01ae6f950>"
            ]
          },
          "metadata": {
            "tags": []
          },
          "execution_count": 105
        },
        {
          "output_type": "display_data",
          "data": {
            "image/png": "[encoded data removed]",
            "text/plain": [
              "<Figure size 720x1080 with 1 Axes>"
            ]
          },
          "metadata": {
            "tags": [],
            "needs_background": "light"
          }
        }
      ]
    },
    {
      "cell_type": "code",
      "metadata": {
        "colab": {
          "base_uri": "https://localhost:8080/",
          "height": 296
        },
        "id": "WHwAIdFrRM26",
        "outputId": "577ac888-11d9-4263-daab-d8f93aae1a2d"
      },
      "source": [
        "pd.concat([dftrain, y_train], axis=1).groupby('sex').survived.mean().plot(kind='barh').set_xlabel('% survive')"
      ],
      "execution_count": 106,
      "outputs": [
        {
          "output_type": "execute_result",
          "data": {
            "text/plain": [
              "Text(0.5, 0, '% survive')"
            ]
          },
          "metadata": {
            "tags": []
          },
          "execution_count": 106
        },
        {
          "output_type": "display_data",
          "data": {
            "image/png": "[encoded data removed]",
            "text/plain": [
              "<Figure size 432x288 with 1 Axes>"
            ]
          },
          "metadata": {
            "tags": [],
            "needs_background": "light"
          }
        }
      ]
    },
    {
      "cell_type": "code",
      "metadata": {
        "colab": {
          "base_uri": "https://localhost:8080/",
          "height": 296
        },
        "id": "BaCeTpgzHPx1",
        "outputId": "a541f70c-84bb-4afe-d74e-5094b7c6a30b"
      },
      "source": [
        "pd.concat([dftrain, y_train], axis=1).groupby('sex').age.mean().plot(kind='barh').set_xlabel('% fare')"
      ],
      "execution_count": 107,
      "outputs": [
        {
          "output_type": "execute_result",
          "data": {
            "text/plain": [
              "Text(0.5, 0, '% fare')"
            ]
          },
          "metadata": {
            "tags": []
          },
          "execution_count": 107
        },
        {
          "output_type": "display_data",
          "data": {
            "image/png": "[encoded data removed]",
            "text/plain": [
              "<Figure size 432x288 with 1 Axes>"
            ]
          },
          "metadata": {
            "tags": [],
            "needs_background": "light"
          }
        }
      ]
    },
    {
      "cell_type": "markdown",
      "metadata": {
        "id": "bxulYcCKSWZV"
      },
      "source": [
        "Read this for concatenation:\r\n",
        "https://pandas.pydata.org/pandas-docs/stable/reference/api/pandas.concat.html\r\n",
        "\r\n",
        "Read for .groupby().mean\r\n",
        "https://pandas.pydata.org/pandas-docs/stable/reference/api/pandas.DataFrame.groupby.html\r\n"
      ]
    },
    {
      "cell_type": "markdown",
      "metadata": {
        "id": "FgGUIhSaaLmn"
      },
      "source": [
        "After analyzing this information, we should notice the following:\r\n",
        "\r\n",
        "Most passengers are in their 20's or 30's\r\n",
        "\r\n",
        "Most passengers are male\r\n",
        "\r\n",
        "Most passengers are in \"Third\" class\r\n",
        "\r\n",
        "Females have a much higher chance of survival"
      ]
    },
    {
      "cell_type": "markdown",
      "metadata": {
        "id": "3Ux6kUuWa1MQ"
      },
      "source": [
        "#Training vs Testing Data\r\n",
        "You may have noticed that we loaded two different datasets above. This is because when we train models, we need two sets of data: training and testing.\r\n",
        "\r\n",
        "The training data is what we feed to the model so that it can develop and learn. It is usually a much larger size than the testing data.\r\n",
        "\r\n",
        "The testing data is what we use to evaulate the model and see how well it is performing. We must use a seperate set of data that the model has not been trained on to evaluate it. Can you think of why this is?\r\n",
        "\r\n",
        "Well, the point of our model is to be able to make predictions on NEW data, data that we have never seen before. **If we simply test the model on the data that it has already seen we cannot measure its accuracy accuratly**. We can't be sure that the model hasn't simply memorized our training data. This is why we need our testing and training data to be seperate."
      ]
    },
    {
      "cell_type": "markdown",
      "metadata": {
        "id": "t0LdHaeNbF8H"
      },
      "source": [
        "#Feature Columns\r\n",
        "In our dataset we have two different kinds of information: **Categorical and Numeric**\r\n",
        "\r\n",
        "Our categorical data is anything that is not numeric! For example, the sex column does not use numbers, it uses the words \"male\" and \"female\".\r\n",
        "\r\n",
        "Before we continue and create/train a model we must convet our categorical data into numeric data. We can do this by encoding each category with an integer (ex. male = 1, female = 2).\r\n",
        "\r\n",
        "Fortunately for us TensorFlow has some tools to help!"
      ]
    },
    {
      "cell_type": "markdown",
      "metadata": {
        "id": "iL2nkRQpBfeg"
      },
      "source": [
        ""
      ]
    },
    {
      "cell_type": "code",
      "metadata": {
        "colab": {
          "base_uri": "https://localhost:8080/"
        },
        "id": "hJI-7fUeCL-m",
        "outputId": "a388cd78-e8f1-430b-cae1-e83493380dc7"
      },
      "source": [
        "CATEGORICAL_COLUMNS = ['sex', 'n_siblings_spouses', 'parch', 'class', 'deck',\r\n",
        "                       'embark_town', 'alone']\r\n",
        "NUMERIC_COLUMNS = ['age', 'fare']\r\n",
        "\r\n",
        "feature_columns = []\r\n",
        "for feature_name in CATEGORICAL_COLUMNS:\r\n",
        "  vocabulary = dftrain[feature_name].unique()  # gets a list of all unique values from given feature column\r\n",
        "  feature_columns.append(tf.feature_column.categorical_column_with_vocabulary_list(feature_name, vocabulary))\r\n",
        "\r\n",
        "for feature_name in NUMERIC_COLUMNS:\r\n",
        "  feature_columns.append(tf.feature_column.numeric_column(feature_name, dtype=tf.float32))\r\n",
        "\r\n",
        "print(feature_columns)"
      ],
      "execution_count": 108,
      "outputs": [
        {
          "output_type": "stream",
          "text": [
            "[VocabularyListCategoricalColumn(key='sex', vocabulary_list=('male', 'female'), dtype=tf.string, default_value=-1, num_oov_buckets=0), VocabularyListCategoricalColumn(key='n_siblings_spouses', vocabulary_list=(1, 0, 3, 4, 2, 5, 8), dtype=tf.int64, default_value=-1, num_oov_buckets=0), VocabularyListCategoricalColumn(key='parch', vocabulary_list=(0, 1, 2, 5, 3, 4), dtype=tf.int64, default_value=-1, num_oov_buckets=0), VocabularyListCategoricalColumn(key='class', vocabulary_list=('Third', 'First', 'Second'), dtype=tf.string, default_value=-1, num_oov_buckets=0), VocabularyListCategoricalColumn(key='deck', vocabulary_list=('unknown', 'C', 'G', 'A', 'B', 'D', 'F', 'E'), dtype=tf.string, default_value=-1, num_oov_buckets=0), VocabularyListCategoricalColumn(key='embark_town', vocabulary_list=('Southampton', 'Cherbourg', 'Queenstown', 'unknown'), dtype=tf.string, default_value=-1, num_oov_buckets=0), VocabularyListCategoricalColumn(key='alone', vocabulary_list=('n', 'y'), dtype=tf.string, default_value=-1, num_oov_buckets=0), NumericColumn(key='age', shape=(1,), default_value=None, dtype=tf.float32, normalizer_fn=None), NumericColumn(key='fare', shape=(1,), default_value=None, dtype=tf.float32, normalizer_fn=None)]\n"
          ],
          "name": "stdout"
        }
      ]
    },
    {
      "cell_type": "markdown",
      "metadata": {
        "id": "rEPhiKJnbW49"
      },
      "source": [
        "Let's break this code down a little bit...\r\n",
        "\r\n",
        "Essentially what we are doing here is creating a list of features that are used in our dataset.\r\n",
        "\r\n",
        "The cryptic lines of code inside the append() create an object that our model can use to map string values like \"male\" and \"female\" to integers. This allows us to avoid manually having to encode our dataframes.\r\n",
        "\r\n",
        "And here is some relevant documentation\r\n",
        "\r\n",
        "https://www.tensorflow.org/api_docs/python/tf/feature_column/categorical_column_with_vocabulary_list?version=stable\r\n",
        "\r\n",
        "\r\n",
        "\r\n",
        "\r\n",
        "Estimators use a system called feature columns **to describe how the model should interpret each of the raw input features**. An Estimator **expects a vector of numeric inputs**, and feature column describe how the model should convert each feature.\r\n",
        "**bold text**"
      ]
    },
    {
      "cell_type": "markdown",
      "metadata": {
        "id": "bgHj345LFVch"
      },
      "source": [
        "\r\n",
        "#The Training Process\r\n",
        "\r\n",
        "Training:  how input data is fed to our model.\r\n",
        "\r\n",
        "For this specific model data is going to be streamed into it in small batches of 32. This means we will not feed the entire dataset to our model at once, but simply small batches of entries. We will feed these batches to our model multiple times according to the number of epochs.\r\n",
        "\r\n",
        "An epoch is simply one stream of our entire dataset. The number of epochs we define is the amount of times our model will see the entire dataset. We use multiple epochs in hope that after seeing the same data multiple times the model will better determine how to estimate it.\r\n",
        "\r\n",
        "Ex. if we have 10 ephocs, our model will see the same dataset 10 times.\r\n",
        "\r\n",
        "Since we need to feed our data in batches and multiple times, we need to create something called an input function. The input function simply defines how our dataset will be converted into batches at each epoch."
      ]
    },
    {
      "cell_type": "markdown",
      "metadata": {
        "id": "xpsm0_4GE3hi"
      },
      "source": [
        "#Input Function\r\n",
        "\r\n",
        "The TensorFlow model we are going to use requires that the data we pass it comes in as a tf.data.Dataset object. This means we must create a input function that can **convert our current pandas dataframe into that object.**\r\n",
        "\r\n",
        " TensorFlow documentation (https://www.tensorflow.org/tutorials/estimator/linear). \r\n",
        "\r\n",
        "---------------------------------------------------------------------\r\n",
        "#tf.data.Dataset:\r\n",
        "\r\n",
        "The tf.data.Dataset API supports writing descriptive and efficient input pipelines. Dataset usage follows a common pattern:\r\n",
        "\r\n",
        "Create a source dataset from your input data.\r\n",
        "Apply dataset transformations to preprocess the data.\r\n",
        "Iterate over the dataset and process the elements.\r\n",
        "\r\n",
        "Iteration happens in a streaming fashion, so the full dataset does not need to fit into memory. Streaming means, it made multile blocks of whole data and then feed the model subsequently.\r\n",
        "\r\n",
        "from_tensor_slices:\r\n",
        "Creates a Dataset whose elements are slices(parts, elements) of the given tensors. Or, it will show every element enclosed in colun seperately.\r\n",
        "\r\n"
      ]
    },
    {
      "cell_type": "code",
      "metadata": {
        "id": "f8luaaPaE4gL"
      },
      "source": [
        "def make_input_fn(data_df, label_df, num_epochs=10, shuffle=True, batch_size=32):\r\n",
        "  def input_function():  # inner function, this will be returned\r\n",
        "    ds = tf.data.Dataset.from_tensor_slices((dict(data_df), label_df))  # create tf.data.Dataset object with data and its label\r\n",
        "    if shuffle:\r\n",
        "      ds = ds.shuffle(1000)  # randomize order of data\r\n",
        "    ds = ds.batch(batch_size).repeat(num_epochs)  # split dataset into batches of 32 and repeat process for number of epochs\r\n",
        "    return ds  # return a batch of the dataset\r\n",
        "  return input_function  # return a function object for use\r\n",
        "\r\n",
        "train_input_fn = make_input_fn(dftrain, y_train)  # here we will call the input_function that was returned to us to get a dataset object we can feed to the model\r\n",
        "eval_input_fn = make_input_fn(dfeval, y_eval, num_epochs=1, shuffle=False)\r\n"
      ],
      "execution_count": 109,
      "outputs": []
    },
    {
      "cell_type": "code",
      "metadata": {
        "colab": {
          "base_uri": "https://localhost:8080/"
        },
        "id": "DDozlU47MQa2",
        "outputId": "7a3da5ef-7dc9-4d7a-ab99-a820dfc69a7c"
      },
      "source": [
        "#Example #1 :\r\n",
        "#In this example we can see that by using tf.data.Dataset.from_tensor_slices() method, we are able to get the slices of list or array.\r\n",
        "\r\n",
        "\r\n",
        "# import tensorflow \r\n",
        "import tensorflow as tf \r\n",
        "  \r\n",
        "# using tf.data.Dataset.from_tensor_slices() method \r\n",
        "gfg = tf.data.Dataset.from_tensor_slices([1, 2, 3, 4, 5]) \r\n",
        "  \r\n",
        "for ele in gfg: \r\n",
        "    print(ele.numpy()) "
      ],
      "execution_count": 110,
      "outputs": [
        {
          "output_type": "stream",
          "text": [
            "1\n",
            "2\n",
            "3\n",
            "4\n",
            "5\n"
          ],
          "name": "stdout"
        }
      ]
    },
    {
      "cell_type": "code",
      "metadata": {
        "colab": {
          "base_uri": "https://localhost:8080/"
        },
        "id": "BCxu2q5NMW-U",
        "outputId": "690fd0eb-4df3-46b5-fcd6-68c638c5bb96"
      },
      "source": [
        "#Example #2 :\r\n",
        "\r\n",
        "\r\n",
        "# import tensorflow \r\n",
        "import tensorflow as tf \r\n",
        "  \r\n",
        "# using tf.data.Dataset.from_tensor_slices() method \r\n",
        "gfg = tf.data.Dataset.from_tensor_slices([[5, 10], [3, 6]]) \r\n",
        "  \r\n",
        "for ele in gfg: \r\n",
        "    print(ele.numpy()) "
      ],
      "execution_count": 111,
      "outputs": [
        {
          "output_type": "stream",
          "text": [
            "[ 5 10]\n",
            "[3 6]\n"
          ],
          "name": "stdout"
        }
      ]
    },
    {
      "cell_type": "code",
      "metadata": {
        "colab": {
          "base_uri": "https://localhost:8080/"
        },
        "id": "NQ1N6VZbMqGD",
        "outputId": "53692407-a4cc-4d68-95f3-160965345bd2"
      },
      "source": [
        "linear_est = tf.estimator.LinearClassifier(feature_columns=feature_columns) # We create a linear estimtor by passing the feature columns we created earlier"
      ],
      "execution_count": 112,
      "outputs": [
        {
          "output_type": "stream",
          "text": [
            "INFO:tensorflow:Using default config.\n",
            "WARNING:tensorflow:Using temporary folder as model directory: /tmp/tmpn9nxrmyf\n",
            "INFO:tensorflow:Using config: {'_model_dir': '/tmp/tmpn9nxrmyf', '_tf_random_seed': None, '_save_summary_steps': 100, '_save_checkpoints_steps': None, '_save_checkpoints_secs': 600, '_session_config': allow_soft_placement: true\n",
            "graph_options {\n",
            "  rewrite_options {\n",
            "    meta_optimizer_iterations: ONE\n",
            "  }\n",
            "}\n",
            ", '_keep_checkpoint_max': 5, '_keep_checkpoint_every_n_hours': 10000, '_log_step_count_steps': 100, '_train_distribute': None, '_device_fn': None, '_protocol': None, '_eval_distribute': None, '_experimental_distribute': None, '_experimental_max_worker_delay_secs': None, '_session_creation_timeout_secs': 7200, '_checkpoint_save_graph_def': True, '_service': None, '_cluster_spec': ClusterSpec({}), '_task_type': 'worker', '_task_id': 0, '_global_id_in_cluster': 0, '_master': '', '_evaluation_master': '', '_is_chief': True, '_num_ps_replicas': 0, '_num_worker_replicas': 1}\n"
          ],
          "name": "stdout"
        }
      ]
    },
    {
      "cell_type": "code",
      "metadata": {
        "colab": {
          "base_uri": "https://localhost:8080/"
        },
        "id": "NDplKwwyWMLS",
        "outputId": "cae69849-55e9-4d8e-ad4e-354714b1f7f1"
      },
      "source": [
        "linear_est.train(train_input_fn)  # train\r\n",
        "result = linear_est.evaluate(eval_input_fn)  # get model metrics/stats by testing on tetsing data\r\n",
        "\r\n",
        "clear_output()  # clears consoke output\r\n",
        "print(result['accuracy'])  # the result variable is simply a dict of stats about our model\r\n",
        "print(result)"
      ],
      "execution_count": 113,
      "outputs": [
        {
          "output_type": "stream",
          "text": [
            "0.7689394\n",
            "{'accuracy': 0.7689394, 'accuracy_baseline': 0.625, 'auc': 0.8368534, 'auc_precision_recall': 0.78623074, 'average_loss': 0.4860067, 'label/mean': 0.375, 'loss': 0.477642, 'precision': 0.72619045, 'prediction/mean': 0.31556195, 'recall': 0.61616164, 'global_step': 200}\n"
          ],
          "name": "stdout"
        }
      ]
    },
    {
      "cell_type": "code",
      "metadata": {
        "colab": {
          "base_uri": "https://localhost:8080/"
        },
        "id": "B13KcDAmWupU",
        "outputId": "e91bb3fb-4a63-4cee-fc56-de3377f5cfd6"
      },
      "source": [
        "result=list(linear_est.predict(eval_input_fn))\r\n",
        "print(result)"
      ],
      "execution_count": 114,
      "outputs": [
        {
          "output_type": "stream",
          "text": [
            "INFO:tensorflow:Calling model_fn.\n"
          ],
          "name": "stdout"
        },
        {
          "output_type": "stream",
          "text": [
            "/usr/local/lib/python3.7/dist-packages/tensorflow/python/keras/engine/base_layer_v1.py:1727: UserWarning: `layer.add_variable` is deprecated and will be removed in a future version. Please use `layer.add_weight` method instead.\n",
            "  warnings.warn('`layer.add_variable` is deprecated and '\n"
          ],
          "name": "stderr"
        },
        {
          "output_type": "stream",
          "text": [
            "INFO:tensorflow:Done calling model_fn.\n",
            "INFO:tensorflow:Graph was finalized.\n",
            "INFO:tensorflow:Restoring parameters from /tmp/tmpn9nxrmyf/model.ckpt-200\n",
            "INFO:tensorflow:Running local_init_op.\n",
            "INFO:tensorflow:Done running local_init_op.\n",
            "[{'logits': array([-2.9338822], dtype=float32), 'logistic': array([0.05050382], dtype=float32), 'probabilities': array([0.9494962 , 0.05050384], dtype=float32), 'class_ids': array([0]), 'classes': array([b'0'], dtype=object), 'all_class_ids': array([0, 1], dtype=int32), 'all_classes': array([b'0', b'1'], dtype=object)}, {'logits': array([-1.461403], dtype=float32), 'logistic': array([0.18825284], dtype=float32), 'probabilities': array([0.81174713, 0.18825282], dtype=float32), 'class_ids': array([0]), 'classes': array([b'0'], dtype=object), 'all_class_ids': array([0, 1], dtype=int32), 'all_classes': array([b'0', b'1'], dtype=object)}, {'logits': array([0.09635223], dtype=float32), 'logistic': array([0.5240694], dtype=float32), 'probabilities': array([0.4759306, 0.5240695], dtype=float32), 'class_ids': array([1]), 'classes': array([b'1'], dtype=object), 'all_class_ids': array([0, 1], dtype=int32), 'all_classes': array([b'0', b'1'], dtype=object)}, {'logits': array([-0.14085375], dtype=float32), 'logistic': array([0.46484467], dtype=float32), 'probabilities': array([0.53515536, 0.46484467], dtype=float32), 'class_ids': array([0]), 'classes': array([b'0'], dtype=object), 'all_class_ids': array([0, 1], dtype=int32), 'all_classes': array([b'0', b'1'], dtype=object)}, {'logits': array([-1.4200436], dtype=float32), 'logistic': array([0.19465479], dtype=float32), 'probabilities': array([0.80534524, 0.19465475], dtype=float32), 'class_ids': array([0]), 'classes': array([b'0'], dtype=object), 'all_class_ids': array([0, 1], dtype=int32), 'all_classes': array([b'0', b'1'], dtype=object)}, {'logits': array([0.791785], dtype=float32), 'logistic': array([0.6882145], dtype=float32), 'probabilities': array([0.31178552, 0.6882145 ], dtype=float32), 'class_ids': array([1]), 'classes': array([b'1'], dtype=object), 'all_class_ids': array([0, 1], dtype=int32), 'all_classes': array([b'0', b'1'], dtype=object)}, {'logits': array([-0.05195235], dtype=float32), 'logistic': array([0.48701483], dtype=float32), 'probabilities': array([0.51298517, 0.48701483], dtype=float32), 'class_ids': array([0]), 'classes': array([b'0'], dtype=object), 'all_class_ids': array([0, 1], dtype=int32), 'all_classes': array([b'0', b'1'], dtype=object)}, {'logits': array([-2.4527736], dtype=float32), 'logistic': array([0.07923594], dtype=float32), 'probabilities': array([0.920764  , 0.07923596], dtype=float32), 'class_ids': array([0]), 'classes': array([b'0'], dtype=object), 'all_class_ids': array([0, 1], dtype=int32), 'all_classes': array([b'0', b'1'], dtype=object)}, {'logits': array([0.06128348], dtype=float32), 'logistic': array([0.51531607], dtype=float32), 'probabilities': array([0.48468393, 0.51531607], dtype=float32), 'class_ids': array([1]), 'classes': array([b'1'], dtype=object), 'all_class_ids': array([0, 1], dtype=int32), 'all_classes': array([b'0', b'1'], dtype=object)}, {'logits': array([0.65416926], dtype=float32), 'logistic': array([0.6579493], dtype=float32), 'probabilities': array([0.3420506, 0.6579494], dtype=float32), 'class_ids': array([1]), 'classes': array([b'1'], dtype=object), 'all_class_ids': array([0, 1], dtype=int32), 'all_classes': array([b'0', b'1'], dtype=object)}, {'logits': array([0.34475076], dtype=float32), 'logistic': array([0.5853441], dtype=float32), 'probabilities': array([0.41465592, 0.5853441 ], dtype=float32), 'class_ids': array([1]), 'classes': array([b'1'], dtype=object), 'all_class_ids': array([0, 1], dtype=int32), 'all_classes': array([b'0', b'1'], dtype=object)}, {'logits': array([-2.4530334], dtype=float32), 'logistic': array([0.07921699], dtype=float32), 'probabilities': array([0.9207829, 0.079217 ], dtype=float32), 'class_ids': array([0]), 'classes': array([b'0'], dtype=object), 'all_class_ids': array([0, 1], dtype=int32), 'all_classes': array([b'0', b'1'], dtype=object)}, {'logits': array([1.4637892], dtype=float32), 'logistic': array([0.8121115], dtype=float32), 'probabilities': array([0.18788846, 0.81211156], dtype=float32), 'class_ids': array([1]), 'classes': array([b'1'], dtype=object), 'all_class_ids': array([0, 1], dtype=int32), 'all_classes': array([b'0', b'1'], dtype=object)}, {'logits': array([-0.9740435], dtype=float32), 'logistic': array([0.27407533], dtype=float32), 'probabilities': array([0.72592473, 0.2740753 ], dtype=float32), 'class_ids': array([0]), 'classes': array([b'0'], dtype=object), 'all_class_ids': array([0, 1], dtype=int32), 'all_classes': array([b'0', b'1'], dtype=object)}, {'logits': array([1.1513897], dtype=float32), 'logistic': array([0.7597647], dtype=float32), 'probabilities': array([0.24023534, 0.7597647 ], dtype=float32), 'class_ids': array([1]), 'classes': array([b'1'], dtype=object), 'all_class_ids': array([0, 1], dtype=int32), 'all_classes': array([b'0', b'1'], dtype=object)}, {'logits': array([-0.23209618], dtype=float32), 'logistic': array([0.44223505], dtype=float32), 'probabilities': array([0.557765  , 0.44223505], dtype=float32), 'class_ids': array([0]), 'classes': array([b'0'], dtype=object), 'all_class_ids': array([0, 1], dtype=int32), 'all_classes': array([b'0', b'1'], dtype=object)}, {'logits': array([-1.9825557], dtype=float32), 'logistic': array([0.12104663], dtype=float32), 'probabilities': array([0.8789534 , 0.12104666], dtype=float32), 'class_ids': array([0]), 'classes': array([b'0'], dtype=object), 'all_class_ids': array([0, 1], dtype=int32), 'all_classes': array([b'0', b'1'], dtype=object)}, {'logits': array([1.1592935], dtype=float32), 'logistic': array([0.76120436], dtype=float32), 'probabilities': array([0.23879568, 0.76120436], dtype=float32), 'class_ids': array([1]), 'classes': array([b'1'], dtype=object), 'all_class_ids': array([0, 1], dtype=int32), 'all_classes': array([b'0', b'1'], dtype=object)}, {'logits': array([-1.0744601], dtype=float32), 'logistic': array([0.25455582], dtype=float32), 'probabilities': array([0.7454442, 0.2545558], dtype=float32), 'class_ids': array([0]), 'classes': array([b'0'], dtype=object), 'all_class_ids': array([0, 1], dtype=int32), 'all_classes': array([b'0', b'1'], dtype=object)}, {'logits': array([-2.7276928], dtype=float32), 'logistic': array([0.0613589], dtype=float32), 'probabilities': array([0.9386411 , 0.06135891], dtype=float32), 'class_ids': array([0]), 'classes': array([b'0'], dtype=object), 'all_class_ids': array([0, 1], dtype=int32), 'all_classes': array([b'0', b'1'], dtype=object)}, {'logits': array([-2.4186122], dtype=float32), 'logistic': array([0.08176437], dtype=float32), 'probabilities': array([0.91823566, 0.08176439], dtype=float32), 'class_ids': array([0]), 'classes': array([b'0'], dtype=object), 'all_class_ids': array([0, 1], dtype=int32), 'all_classes': array([b'0', b'1'], dtype=object)}, {'logits': array([-2.7373948], dtype=float32), 'logistic': array([0.06080249], dtype=float32), 'probabilities': array([0.93919754, 0.06080251], dtype=float32), 'class_ids': array([0]), 'classes': array([b'0'], dtype=object), 'all_class_ids': array([0, 1], dtype=int32), 'all_classes': array([b'0', b'1'], dtype=object)}, {'logits': array([0.24394692], dtype=float32), 'logistic': array([0.56068605], dtype=float32), 'probabilities': array([0.43931392, 0.56068605], dtype=float32), 'class_ids': array([1]), 'classes': array([b'1'], dtype=object), 'all_class_ids': array([0, 1], dtype=int32), 'all_classes': array([b'0', b'1'], dtype=object)}, {'logits': array([-3.037137], dtype=float32), 'logistic': array([0.04577601], dtype=float32), 'probabilities': array([0.9542239 , 0.04577606], dtype=float32), 'class_ids': array([0]), 'classes': array([b'0'], dtype=object), 'all_class_ids': array([0, 1], dtype=int32), 'all_classes': array([b'0', b'1'], dtype=object)}, {'logits': array([0.31250584], dtype=float32), 'logistic': array([0.57749677], dtype=float32), 'probabilities': array([0.4225032 , 0.57749677], dtype=float32), 'class_ids': array([1]), 'classes': array([b'1'], dtype=object), 'all_class_ids': array([0, 1], dtype=int32), 'all_classes': array([b'0', b'1'], dtype=object)}, {'logits': array([0.08671142], dtype=float32), 'logistic': array([0.52166426], dtype=float32), 'probabilities': array([0.47833568, 0.52166426], dtype=float32), 'class_ids': array([1]), 'classes': array([b'1'], dtype=object), 'all_class_ids': array([0, 1], dtype=int32), 'all_classes': array([b'0', b'1'], dtype=object)}, {'logits': array([-1.906312], dtype=float32), 'logistic': array([0.12939575], dtype=float32), 'probabilities': array([0.8706043 , 0.12939575], dtype=float32), 'class_ids': array([0]), 'classes': array([b'0'], dtype=object), 'all_class_ids': array([0, 1], dtype=int32), 'all_classes': array([b'0', b'1'], dtype=object)}, {'logits': array([-1.6995271], dtype=float32), 'logistic': array([0.15452701], dtype=float32), 'probabilities': array([0.845473  , 0.15452704], dtype=float32), 'class_ids': array([0]), 'classes': array([b'0'], dtype=object), 'all_class_ids': array([0, 1], dtype=int32), 'all_classes': array([b'0', b'1'], dtype=object)}, {'logits': array([-1.5047873], dtype=float32), 'logistic': array([0.1817126], dtype=float32), 'probabilities': array([0.81828743, 0.18171261], dtype=float32), 'class_ids': array([0]), 'classes': array([b'0'], dtype=object), 'all_class_ids': array([0, 1], dtype=int32), 'all_classes': array([b'0', b'1'], dtype=object)}, {'logits': array([1.216497], dtype=float32), 'logistic': array([0.77144647], dtype=float32), 'probabilities': array([0.22855352, 0.77144647], dtype=float32), 'class_ids': array([1]), 'classes': array([b'1'], dtype=object), 'all_class_ids': array([0, 1], dtype=int32), 'all_classes': array([b'0', b'1'], dtype=object)}, {'logits': array([-2.261862], dtype=float32), 'logistic': array([0.09433115], dtype=float32), 'probabilities': array([0.9056688 , 0.09433117], dtype=float32), 'class_ids': array([0]), 'classes': array([b'0'], dtype=object), 'all_class_ids': array([0, 1], dtype=int32), 'all_classes': array([b'0', b'1'], dtype=object)}, {'logits': array([0.79496473], dtype=float32), 'logistic': array([0.68889636], dtype=float32), 'probabilities': array([0.31110364, 0.68889636], dtype=float32), 'class_ids': array([1]), 'classes': array([b'1'], dtype=object), 'all_class_ids': array([0, 1], dtype=int32), 'all_classes': array([b'0', b'1'], dtype=object)}, {'logits': array([-1.8101625], dtype=float32), 'logistic': array([0.14061847], dtype=float32), 'probabilities': array([0.85938156, 0.14061849], dtype=float32), 'class_ids': array([0]), 'classes': array([b'0'], dtype=object), 'all_class_ids': array([0, 1], dtype=int32), 'all_classes': array([b'0', b'1'], dtype=object)}, {'logits': array([0.18131126], dtype=float32), 'logistic': array([0.54520404], dtype=float32), 'probabilities': array([0.45479596, 0.54520404], dtype=float32), 'class_ids': array([1]), 'classes': array([b'1'], dtype=object), 'all_class_ids': array([0, 1], dtype=int32), 'all_classes': array([b'0', b'1'], dtype=object)}, {'logits': array([-1.3893921], dtype=float32), 'logistic': array([0.19950482], dtype=float32), 'probabilities': array([0.80049515, 0.19950481], dtype=float32), 'class_ids': array([0]), 'classes': array([b'0'], dtype=object), 'all_class_ids': array([0, 1], dtype=int32), 'all_classes': array([b'0', b'1'], dtype=object)}, {'logits': array([-2.6592274], dtype=float32), 'logistic': array([0.06542256], dtype=float32), 'probabilities': array([0.9345774 , 0.06542256], dtype=float32), 'class_ids': array([0]), 'classes': array([b'0'], dtype=object), 'all_class_ids': array([0, 1], dtype=int32), 'all_classes': array([b'0', b'1'], dtype=object)}, {'logits': array([-2.0825615], dtype=float32), 'logistic': array([0.11080331], dtype=float32), 'probabilities': array([0.88919663, 0.11080334], dtype=float32), 'class_ids': array([0]), 'classes': array([b'0'], dtype=object), 'all_class_ids': array([0, 1], dtype=int32), 'all_classes': array([b'0', b'1'], dtype=object)}, {'logits': array([-2.394366], dtype=float32), 'logistic': array([0.08360326], dtype=float32), 'probabilities': array([0.9163967 , 0.08360332], dtype=float32), 'class_ids': array([0]), 'classes': array([b'0'], dtype=object), 'all_class_ids': array([0, 1], dtype=int32), 'all_classes': array([b'0', b'1'], dtype=object)}, {'logits': array([1.4070678], dtype=float32), 'logistic': array([0.80330306], dtype=float32), 'probabilities': array([0.19669697, 0.80330306], dtype=float32), 'class_ids': array([1]), 'classes': array([b'1'], dtype=object), 'all_class_ids': array([0, 1], dtype=int32), 'all_classes': array([b'0', b'1'], dtype=object)}, {'logits': array([-2.7620578], dtype=float32), 'logistic': array([0.05940926], dtype=float32), 'probabilities': array([0.9405908 , 0.05940928], dtype=float32), 'class_ids': array([0]), 'classes': array([b'0'], dtype=object), 'all_class_ids': array([0, 1], dtype=int32), 'all_classes': array([b'0', b'1'], dtype=object)}, {'logits': array([0.37435997], dtype=float32), 'logistic': array([0.5925121], dtype=float32), 'probabilities': array([0.4074879, 0.5925121], dtype=float32), 'class_ids': array([1]), 'classes': array([b'1'], dtype=object), 'all_class_ids': array([0, 1], dtype=int32), 'all_classes': array([b'0', b'1'], dtype=object)}, {'logits': array([-2.322618], dtype=float32), 'logistic': array([0.08926699], dtype=float32), 'probabilities': array([0.91073304, 0.08926699], dtype=float32), 'class_ids': array([0]), 'classes': array([b'0'], dtype=object), 'all_class_ids': array([0, 1], dtype=int32), 'all_classes': array([b'0', b'1'], dtype=object)}, {'logits': array([-0.85466015], dtype=float32), 'logistic': array([0.29845622], dtype=float32), 'probabilities': array([0.7015438, 0.2984562], dtype=float32), 'class_ids': array([0]), 'classes': array([b'0'], dtype=object), 'all_class_ids': array([0, 1], dtype=int32), 'all_classes': array([b'0', b'1'], dtype=object)}, {'logits': array([-1.5793616], dtype=float32), 'logistic': array([0.17088592], dtype=float32), 'probabilities': array([0.8291141 , 0.17088592], dtype=float32), 'class_ids': array([0]), 'classes': array([b'0'], dtype=object), 'all_class_ids': array([0, 1], dtype=int32), 'all_classes': array([b'0', b'1'], dtype=object)}, {'logits': array([-2.1407773], dtype=float32), 'logistic': array([0.10519618], dtype=float32), 'probabilities': array([0.8948038, 0.1051962], dtype=float32), 'class_ids': array([0]), 'classes': array([b'0'], dtype=object), 'all_class_ids': array([0, 1], dtype=int32), 'all_classes': array([b'0', b'1'], dtype=object)}, {'logits': array([1.1247514], dtype=float32), 'logistic': array([0.754869], dtype=float32), 'probabilities': array([0.24513102, 0.75486904], dtype=float32), 'class_ids': array([1]), 'classes': array([b'1'], dtype=object), 'all_class_ids': array([0, 1], dtype=int32), 'all_classes': array([b'0', b'1'], dtype=object)}, {'logits': array([-2.4529035], dtype=float32), 'logistic': array([0.07922643], dtype=float32), 'probabilities': array([0.92077357, 0.07922649], dtype=float32), 'class_ids': array([0]), 'classes': array([b'0'], dtype=object), 'all_class_ids': array([0, 1], dtype=int32), 'all_classes': array([b'0', b'1'], dtype=object)}, {'logits': array([-1.5305549], dtype=float32), 'logistic': array([0.1779125], dtype=float32), 'probabilities': array([0.8220875 , 0.17791253], dtype=float32), 'class_ids': array([0]), 'classes': array([b'0'], dtype=object), 'all_class_ids': array([0, 1], dtype=int32), 'all_classes': array([b'0', b'1'], dtype=object)}, {'logits': array([-0.69246197], dtype=float32), 'logistic': array([0.33348563], dtype=float32), 'probabilities': array([0.6665144 , 0.33348563], dtype=float32), 'class_ids': array([0]), 'classes': array([b'0'], dtype=object), 'all_class_ids': array([0, 1], dtype=int32), 'all_classes': array([b'0', b'1'], dtype=object)}, {'logits': array([-1.1517144], dtype=float32), 'logistic': array([0.24017608], dtype=float32), 'probabilities': array([0.7598239 , 0.24017607], dtype=float32), 'class_ids': array([0]), 'classes': array([b'0'], dtype=object), 'all_class_ids': array([0, 1], dtype=int32), 'all_classes': array([b'0', b'1'], dtype=object)}, {'logits': array([-2.566821], dtype=float32), 'logistic': array([0.0713045], dtype=float32), 'probabilities': array([0.92869544, 0.07130452], dtype=float32), 'class_ids': array([0]), 'classes': array([b'0'], dtype=object), 'all_class_ids': array([0, 1], dtype=int32), 'all_classes': array([b'0', b'1'], dtype=object)}, {'logits': array([-1.603973], dtype=float32), 'logistic': array([0.1674271], dtype=float32), 'probabilities': array([0.83257294, 0.16742706], dtype=float32), 'class_ids': array([0]), 'classes': array([b'0'], dtype=object), 'all_class_ids': array([0, 1], dtype=int32), 'all_classes': array([b'0', b'1'], dtype=object)}, {'logits': array([-3.1535587], dtype=float32), 'logistic': array([0.04095128], dtype=float32), 'probabilities': array([0.9590487 , 0.04095128], dtype=float32), 'class_ids': array([0]), 'classes': array([b'0'], dtype=object), 'all_class_ids': array([0, 1], dtype=int32), 'all_classes': array([b'0', b'1'], dtype=object)}, {'logits': array([-2.6921213], dtype=float32), 'logistic': array([0.06343985], dtype=float32), 'probabilities': array([0.93656015, 0.06343987], dtype=float32), 'class_ids': array([0]), 'classes': array([b'0'], dtype=object), 'all_class_ids': array([0, 1], dtype=int32), 'all_classes': array([b'0', b'1'], dtype=object)}, {'logits': array([-2.3496788], dtype=float32), 'logistic': array([0.0870913], dtype=float32), 'probabilities': array([0.9129087 , 0.08709131], dtype=float32), 'class_ids': array([0]), 'classes': array([b'0'], dtype=object), 'all_class_ids': array([0, 1], dtype=int32), 'all_classes': array([b'0', b'1'], dtype=object)}, {'logits': array([-2.5569081], dtype=float32), 'logistic': array([0.07196376], dtype=float32), 'probabilities': array([0.9280363 , 0.07196376], dtype=float32), 'class_ids': array([0]), 'classes': array([b'0'], dtype=object), 'all_class_ids': array([0, 1], dtype=int32), 'all_classes': array([b'0', b'1'], dtype=object)}, {'logits': array([-1.9819871], dtype=float32), 'logistic': array([0.12110716], dtype=float32), 'probabilities': array([0.8788928 , 0.12110716], dtype=float32), 'class_ids': array([0]), 'classes': array([b'0'], dtype=object), 'all_class_ids': array([0, 1], dtype=int32), 'all_classes': array([b'0', b'1'], dtype=object)}, {'logits': array([2.3355434], dtype=float32), 'logistic': array([0.9117782], dtype=float32), 'probabilities': array([0.08822174, 0.9117783 ], dtype=float32), 'class_ids': array([1]), 'classes': array([b'1'], dtype=object), 'all_class_ids': array([0, 1], dtype=int32), 'all_classes': array([b'0', b'1'], dtype=object)}, {'logits': array([-1.8788923], dtype=float32), 'logistic': array([0.13251618], dtype=float32), 'probabilities': array([0.86748385, 0.13251616], dtype=float32), 'class_ids': array([0]), 'classes': array([b'0'], dtype=object), 'all_class_ids': array([0, 1], dtype=int32), 'all_classes': array([b'0', b'1'], dtype=object)}, {'logits': array([-2.6934884], dtype=float32), 'logistic': array([0.06335866], dtype=float32), 'probabilities': array([0.9366413 , 0.06335869], dtype=float32), 'class_ids': array([0]), 'classes': array([b'0'], dtype=object), 'all_class_ids': array([0, 1], dtype=int32), 'all_classes': array([b'0', b'1'], dtype=object)}, {'logits': array([-1.8155748], dtype=float32), 'logistic': array([0.13996571], dtype=float32), 'probabilities': array([0.86003435, 0.13996573], dtype=float32), 'class_ids': array([0]), 'classes': array([b'0'], dtype=object), 'all_class_ids': array([0, 1], dtype=int32), 'all_classes': array([b'0', b'1'], dtype=object)}, {'logits': array([-0.01626622], dtype=float32), 'logistic': array([0.49593353], dtype=float32), 'probabilities': array([0.50406647, 0.49593353], dtype=float32), 'class_ids': array([0]), 'classes': array([b'0'], dtype=object), 'all_class_ids': array([0, 1], dtype=int32), 'all_classes': array([b'0', b'1'], dtype=object)}, {'logits': array([-1.7783972], dtype=float32), 'logistic': array([0.14450115], dtype=float32), 'probabilities': array([0.8554989 , 0.14450116], dtype=float32), 'class_ids': array([0]), 'classes': array([b'0'], dtype=object), 'all_class_ids': array([0, 1], dtype=int32), 'all_classes': array([b'0', b'1'], dtype=object)}, {'logits': array([1.1897599], dtype=float32), 'logistic': array([0.7666981], dtype=float32), 'probabilities': array([0.23330191, 0.7666981 ], dtype=float32), 'class_ids': array([1]), 'classes': array([b'1'], dtype=object), 'all_class_ids': array([0, 1], dtype=int32), 'all_classes': array([b'0', b'1'], dtype=object)}, {'logits': array([-1.9502218], dtype=float32), 'logistic': array([0.12452915], dtype=float32), 'probabilities': array([0.8754708 , 0.12452918], dtype=float32), 'class_ids': array([0]), 'classes': array([b'0'], dtype=object), 'all_class_ids': array([0, 1], dtype=int32), 'all_classes': array([b'0', b'1'], dtype=object)}, {'logits': array([0.10661711], dtype=float32), 'logistic': array([0.52662903], dtype=float32), 'probabilities': array([0.47337097, 0.5266291 ], dtype=float32), 'class_ids': array([1]), 'classes': array([b'1'], dtype=object), 'all_class_ids': array([0, 1], dtype=int32), 'all_classes': array([b'0', b'1'], dtype=object)}, {'logits': array([-0.9716679], dtype=float32), 'logistic': array([0.27454817], dtype=float32), 'probabilities': array([0.72545177, 0.27454814], dtype=float32), 'class_ids': array([0]), 'classes': array([b'0'], dtype=object), 'all_class_ids': array([0, 1], dtype=int32), 'all_classes': array([b'0', b'1'], dtype=object)}, {'logits': array([-2.7612944], dtype=float32), 'logistic': array([0.05945194], dtype=float32), 'probabilities': array([0.94054806, 0.05945195], dtype=float32), 'class_ids': array([0]), 'classes': array([b'0'], dtype=object), 'all_class_ids': array([0, 1], dtype=int32), 'all_classes': array([b'0', b'1'], dtype=object)}, {'logits': array([-2.7382436], dtype=float32), 'logistic': array([0.06075403], dtype=float32), 'probabilities': array([0.9392459 , 0.06075405], dtype=float32), 'class_ids': array([0]), 'classes': array([b'0'], dtype=object), 'all_class_ids': array([0, 1], dtype=int32), 'all_classes': array([b'0', b'1'], dtype=object)}, {'logits': array([0.28518105], dtype=float32), 'logistic': array([0.570816], dtype=float32), 'probabilities': array([0.42918405, 0.570816  ], dtype=float32), 'class_ids': array([1]), 'classes': array([b'1'], dtype=object), 'all_class_ids': array([0, 1], dtype=int32), 'all_classes': array([b'0', b'1'], dtype=object)}, {'logits': array([1.6767837], dtype=float32), 'logistic': array([0.84247816], dtype=float32), 'probabilities': array([0.15752183, 0.84247816], dtype=float32), 'class_ids': array([1]), 'classes': array([b'1'], dtype=object), 'all_class_ids': array([0, 1], dtype=int32), 'all_classes': array([b'0', b'1'], dtype=object)}, {'logits': array([-1.1738939], dtype=float32), 'logistic': array([0.23615187], dtype=float32), 'probabilities': array([0.7638482 , 0.23615187], dtype=float32), 'class_ids': array([0]), 'classes': array([b'0'], dtype=object), 'all_class_ids': array([0, 1], dtype=int32), 'all_classes': array([b'0', b'1'], dtype=object)}, {'logits': array([-3.623887], dtype=float32), 'logistic': array([0.02598551], dtype=float32), 'probabilities': array([0.97401446, 0.02598551], dtype=float32), 'class_ids': array([0]), 'classes': array([b'0'], dtype=object), 'all_class_ids': array([0, 1], dtype=int32), 'all_classes': array([b'0', b'1'], dtype=object)}, {'logits': array([-2.3840437], dtype=float32), 'logistic': array([0.08439755], dtype=float32), 'probabilities': array([0.9156025 , 0.08439757], dtype=float32), 'class_ids': array([0]), 'classes': array([b'0'], dtype=object), 'all_class_ids': array([0, 1], dtype=int32), 'all_classes': array([b'0', b'1'], dtype=object)}, {'logits': array([-2.2610648], dtype=float32), 'logistic': array([0.09439927], dtype=float32), 'probabilities': array([0.90560067, 0.0943993 ], dtype=float32), 'class_ids': array([0]), 'classes': array([b'0'], dtype=object), 'all_class_ids': array([0, 1], dtype=int32), 'all_classes': array([b'0', b'1'], dtype=object)}, {'logits': array([-2.76055], dtype=float32), 'logistic': array([0.05949357], dtype=float32), 'probabilities': array([0.9405064 , 0.05949358], dtype=float32), 'class_ids': array([0]), 'classes': array([b'0'], dtype=object), 'all_class_ids': array([0, 1], dtype=int32), 'all_classes': array([b'0', b'1'], dtype=object)}, {'logits': array([-2.4872987], dtype=float32), 'logistic': array([0.07675341], dtype=float32), 'probabilities': array([0.9232466, 0.0767534], dtype=float32), 'class_ids': array([0]), 'classes': array([b'0'], dtype=object), 'all_class_ids': array([0, 1], dtype=int32), 'all_classes': array([b'0', b'1'], dtype=object)}, {'logits': array([-2.394366], dtype=float32), 'logistic': array([0.08360326], dtype=float32), 'probabilities': array([0.9163967 , 0.08360332], dtype=float32), 'class_ids': array([0]), 'classes': array([b'0'], dtype=object), 'all_class_ids': array([0, 1], dtype=int32), 'all_classes': array([b'0', b'1'], dtype=object)}, {'logits': array([0.55094016], dtype=float32), 'logistic': array([0.6343537], dtype=float32), 'probabilities': array([0.36564633, 0.6343537 ], dtype=float32), 'class_ids': array([1]), 'classes': array([b'1'], dtype=object), 'all_class_ids': array([0, 1], dtype=int32), 'all_classes': array([b'0', b'1'], dtype=object)}, {'logits': array([2.6949427], dtype=float32), 'logistic': array([0.9367276], dtype=float32), 'probabilities': array([0.06327243, 0.9367276 ], dtype=float32), 'class_ids': array([1]), 'classes': array([b'1'], dtype=object), 'all_class_ids': array([0, 1], dtype=int32), 'all_classes': array([b'0', b'1'], dtype=object)}, {'logits': array([0.14209975], dtype=float32), 'logistic': array([0.5354653], dtype=float32), 'probabilities': array([0.46453473, 0.5354653 ], dtype=float32), 'class_ids': array([1]), 'classes': array([b'1'], dtype=object), 'all_class_ids': array([0, 1], dtype=int32), 'all_classes': array([b'0', b'1'], dtype=object)}, {'logits': array([-0.9740435], dtype=float32), 'logistic': array([0.27407533], dtype=float32), 'probabilities': array([0.72592473, 0.2740753 ], dtype=float32), 'class_ids': array([0]), 'classes': array([b'0'], dtype=object), 'all_class_ids': array([0, 1], dtype=int32), 'all_classes': array([b'0', b'1'], dtype=object)}, {'logits': array([-1.9360887], dtype=float32), 'logistic': array([0.12607819], dtype=float32), 'probabilities': array([0.8739219, 0.1260782], dtype=float32), 'class_ids': array([0]), 'classes': array([b'0'], dtype=object), 'all_class_ids': array([0, 1], dtype=int32), 'all_classes': array([b'0', b'1'], dtype=object)}, {'logits': array([2.0249488], dtype=float32), 'logistic': array([0.88339174], dtype=float32), 'probabilities': array([0.11660824, 0.8833918 ], dtype=float32), 'class_ids': array([1]), 'classes': array([b'1'], dtype=object), 'all_class_ids': array([0, 1], dtype=int32), 'all_classes': array([b'0', b'1'], dtype=object)}, {'logits': array([-2.6327882], dtype=float32), 'logistic': array([0.06705779], dtype=float32), 'probabilities': array([0.9329422 , 0.06705781], dtype=float32), 'class_ids': array([0]), 'classes': array([b'0'], dtype=object), 'all_class_ids': array([0, 1], dtype=int32), 'all_classes': array([b'0', b'1'], dtype=object)}, {'logits': array([-0.63507366], dtype=float32), 'logistic': array([0.34636104], dtype=float32), 'probabilities': array([0.653639  , 0.34636098], dtype=float32), 'class_ids': array([0]), 'classes': array([b'0'], dtype=object), 'all_class_ids': array([0, 1], dtype=int32), 'all_classes': array([b'0', b'1'], dtype=object)}, {'logits': array([0.07233442], dtype=float32), 'logistic': array([0.5180757], dtype=float32), 'probabilities': array([0.48192427, 0.5180757 ], dtype=float32), 'class_ids': array([1]), 'classes': array([b'1'], dtype=object), 'all_class_ids': array([0, 1], dtype=int32), 'all_classes': array([b'0', b'1'], dtype=object)}, {'logits': array([-2.8057048], dtype=float32), 'logistic': array([0.05701667], dtype=float32), 'probabilities': array([0.9429833 , 0.05701667], dtype=float32), 'class_ids': array([0]), 'classes': array([b'0'], dtype=object), 'all_class_ids': array([0, 1], dtype=int32), 'all_classes': array([b'0', b'1'], dtype=object)}, {'logits': array([1.0557278], dtype=float32), 'logistic': array([0.74187326], dtype=float32), 'probabilities': array([0.2581267, 0.7418733], dtype=float32), 'class_ids': array([1]), 'classes': array([b'1'], dtype=object), 'all_class_ids': array([0, 1], dtype=int32), 'all_classes': array([b'0', b'1'], dtype=object)}, {'logits': array([1.2083632], dtype=float32), 'logistic': array([0.77000916], dtype=float32), 'probabilities': array([0.22999081, 0.7700092 ], dtype=float32), 'class_ids': array([1]), 'classes': array([b'1'], dtype=object), 'all_class_ids': array([0, 1], dtype=int32), 'all_classes': array([b'0', b'1'], dtype=object)}, {'logits': array([2.7521951], dtype=float32), 'logistic': array([0.94003725], dtype=float32), 'probabilities': array([0.05996279, 0.9400372 ], dtype=float32), 'class_ids': array([1]), 'classes': array([b'1'], dtype=object), 'all_class_ids': array([0, 1], dtype=int32), 'all_classes': array([b'0', b'1'], dtype=object)}, {'logits': array([-2.169195], dtype=float32), 'logistic': array([0.1025511], dtype=float32), 'probabilities': array([0.89744884, 0.1025511 ], dtype=float32), 'class_ids': array([0]), 'classes': array([b'0'], dtype=object), 'all_class_ids': array([0, 1], dtype=int32), 'all_classes': array([b'0', b'1'], dtype=object)}, {'logits': array([-2.567123], dtype=float32), 'logistic': array([0.07128456], dtype=float32), 'probabilities': array([0.9287155 , 0.07128455], dtype=float32), 'class_ids': array([0]), 'classes': array([b'0'], dtype=object), 'all_class_ids': array([0, 1], dtype=int32), 'all_classes': array([b'0', b'1'], dtype=object)}, {'logits': array([2.3718593], dtype=float32), 'logistic': array([0.91465616], dtype=float32), 'probabilities': array([0.0853439 , 0.91465616], dtype=float32), 'class_ids': array([1]), 'classes': array([b'1'], dtype=object), 'all_class_ids': array([0, 1], dtype=int32), 'all_classes': array([b'0', b'1'], dtype=object)}, {'logits': array([-0.41189206], dtype=float32), 'logistic': array([0.39845854], dtype=float32), 'probabilities': array([0.6015415 , 0.39845857], dtype=float32), 'class_ids': array([0]), 'classes': array([b'0'], dtype=object), 'all_class_ids': array([0, 1], dtype=int32), 'all_classes': array([b'0', b'1'], dtype=object)}, {'logits': array([0.4383254], dtype=float32), 'logistic': array([0.6078599], dtype=float32), 'probabilities': array([0.39214006, 0.6078599 ], dtype=float32), 'class_ids': array([1]), 'classes': array([b'1'], dtype=object), 'all_class_ids': array([0, 1], dtype=int32), 'all_classes': array([b'0', b'1'], dtype=object)}, {'logits': array([-1.6361581], dtype=float32), 'logistic': array([0.16298851], dtype=float32), 'probabilities': array([0.8370115 , 0.16298851], dtype=float32), 'class_ids': array([0]), 'classes': array([b'0'], dtype=object), 'all_class_ids': array([0, 1], dtype=int32), 'all_classes': array([b'0', b'1'], dtype=object)}, {'logits': array([-3.1737995], dtype=float32), 'logistic': array([0.04016364], dtype=float32), 'probabilities': array([0.95983624, 0.04016368], dtype=float32), 'class_ids': array([0]), 'classes': array([b'0'], dtype=object), 'all_class_ids': array([0, 1], dtype=int32), 'all_classes': array([b'0', b'1'], dtype=object)}, {'logits': array([-2.5202816], dtype=float32), 'logistic': array([0.07444856], dtype=float32), 'probabilities': array([0.9255515 , 0.07444855], dtype=float32), 'class_ids': array([0]), 'classes': array([b'0'], dtype=object), 'all_class_ids': array([0, 1], dtype=int32), 'all_classes': array([b'0', b'1'], dtype=object)}, {'logits': array([-1.56105], dtype=float32), 'logistic': array([0.17349601], dtype=float32), 'probabilities': array([0.826504  , 0.17349602], dtype=float32), 'class_ids': array([0]), 'classes': array([b'0'], dtype=object), 'all_class_ids': array([0, 1], dtype=int32), 'all_classes': array([b'0', b'1'], dtype=object)}, {'logits': array([-2.7628896], dtype=float32), 'logistic': array([0.0593628], dtype=float32), 'probabilities': array([0.9406372 , 0.05936281], dtype=float32), 'class_ids': array([0]), 'classes': array([b'0'], dtype=object), 'all_class_ids': array([0, 1], dtype=int32), 'all_classes': array([b'0', b'1'], dtype=object)}, {'logits': array([0.17428435], dtype=float32), 'logistic': array([0.54346114], dtype=float32), 'probabilities': array([0.45653886, 0.54346114], dtype=float32), 'class_ids': array([1]), 'classes': array([b'1'], dtype=object), 'all_class_ids': array([0, 1], dtype=int32), 'all_classes': array([b'0', b'1'], dtype=object)}, {'logits': array([-0.65564036], dtype=float32), 'logistic': array([0.34171963], dtype=float32), 'probabilities': array([0.6582804 , 0.34171963], dtype=float32), 'class_ids': array([0]), 'classes': array([b'0'], dtype=object), 'all_class_ids': array([0, 1], dtype=int32), 'all_classes': array([b'0', b'1'], dtype=object)}, {'logits': array([0.11987223], dtype=float32), 'logistic': array([0.5299322], dtype=float32), 'probabilities': array([0.4700678 , 0.52993226], dtype=float32), 'class_ids': array([1]), 'classes': array([b'1'], dtype=object), 'all_class_ids': array([0, 1], dtype=int32), 'all_classes': array([b'0', b'1'], dtype=object)}, {'logits': array([0.20916595], dtype=float32), 'logistic': array([0.5521017], dtype=float32), 'probabilities': array([0.44789833, 0.5521017 ], dtype=float32), 'class_ids': array([1]), 'classes': array([b'1'], dtype=object), 'all_class_ids': array([0, 1], dtype=int32), 'all_classes': array([b'0', b'1'], dtype=object)}, {'logits': array([-1.8191563], dtype=float32), 'logistic': array([0.13953516], dtype=float32), 'probabilities': array([0.8604648 , 0.13953513], dtype=float32), 'class_ids': array([0]), 'classes': array([b'0'], dtype=object), 'all_class_ids': array([0, 1], dtype=int32), 'all_classes': array([b'0', b'1'], dtype=object)}, {'logits': array([1.2479142], dtype=float32), 'logistic': array([0.77693856], dtype=float32), 'probabilities': array([0.22306141, 0.77693856], dtype=float32), 'class_ids': array([1]), 'classes': array([b'1'], dtype=object), 'all_class_ids': array([0, 1], dtype=int32), 'all_classes': array([b'0', b'1'], dtype=object)}, {'logits': array([0.9362671], dtype=float32), 'logistic': array([0.718345], dtype=float32), 'probabilities': array([0.28165498, 0.718345  ], dtype=float32), 'class_ids': array([1]), 'classes': array([b'1'], dtype=object), 'all_class_ids': array([0, 1], dtype=int32), 'all_classes': array([b'0', b'1'], dtype=object)}, {'logits': array([0.5089599], dtype=float32), 'logistic': array([0.6245626], dtype=float32), 'probabilities': array([0.37543738, 0.6245626 ], dtype=float32), 'class_ids': array([1]), 'classes': array([b'1'], dtype=object), 'all_class_ids': array([0, 1], dtype=int32), 'all_classes': array([b'0', b'1'], dtype=object)}, {'logits': array([-2.9899783], dtype=float32), 'logistic': array([0.04788065], dtype=float32), 'probabilities': array([0.9521193 , 0.04788068], dtype=float32), 'class_ids': array([0]), 'classes': array([b'0'], dtype=object), 'all_class_ids': array([0, 1], dtype=int32), 'all_classes': array([b'0', b'1'], dtype=object)}, {'logits': array([0.7835152], dtype=float32), 'logistic': array([0.6864372], dtype=float32), 'probabilities': array([0.31356275, 0.6864372 ], dtype=float32), 'class_ids': array([1]), 'classes': array([b'1'], dtype=object), 'all_class_ids': array([0, 1], dtype=int32), 'all_classes': array([b'0', b'1'], dtype=object)}, {'logits': array([0.2781409], dtype=float32), 'logistic': array([0.56909037], dtype=float32), 'probabilities': array([0.4309096 , 0.56909037], dtype=float32), 'class_ids': array([1]), 'classes': array([b'1'], dtype=object), 'all_class_ids': array([0, 1], dtype=int32), 'all_classes': array([b'0', b'1'], dtype=object)}, {'logits': array([0.2793647], dtype=float32), 'logistic': array([0.5693905], dtype=float32), 'probabilities': array([0.43060952, 0.5693905 ], dtype=float32), 'class_ids': array([1]), 'classes': array([b'1'], dtype=object), 'all_class_ids': array([0, 1], dtype=int32), 'all_classes': array([b'0', b'1'], dtype=object)}, {'logits': array([-3.4840326], dtype=float32), 'logistic': array([0.02976999], dtype=float32), 'probabilities': array([0.97023004, 0.02976998], dtype=float32), 'class_ids': array([0]), 'classes': array([b'0'], dtype=object), 'all_class_ids': array([0, 1], dtype=int32), 'all_classes': array([b'0', b'1'], dtype=object)}, {'logits': array([1.3946407], dtype=float32), 'logistic': array([0.8013321], dtype=float32), 'probabilities': array([0.19866794, 0.8013321 ], dtype=float32), 'class_ids': array([1]), 'classes': array([b'1'], dtype=object), 'all_class_ids': array([0, 1], dtype=int32), 'all_classes': array([b'0', b'1'], dtype=object)}, {'logits': array([0.34392262], dtype=float32), 'logistic': array([0.585143], dtype=float32), 'probabilities': array([0.41485697, 0.5851431 ], dtype=float32), 'class_ids': array([1]), 'classes': array([b'1'], dtype=object), 'all_class_ids': array([0, 1], dtype=int32), 'all_classes': array([b'0', b'1'], dtype=object)}, {'logits': array([-2.7278748], dtype=float32), 'logistic': array([0.06134841], dtype=float32), 'probabilities': array([0.93865156, 0.06134843], dtype=float32), 'class_ids': array([0]), 'classes': array([b'0'], dtype=object), 'all_class_ids': array([0, 1], dtype=int32), 'all_classes': array([b'0', b'1'], dtype=object)}, {'logits': array([0.2002957], dtype=float32), 'logistic': array([0.5499072], dtype=float32), 'probabilities': array([0.45009285, 0.5499072 ], dtype=float32), 'class_ids': array([1]), 'classes': array([b'1'], dtype=object), 'all_class_ids': array([0, 1], dtype=int32), 'all_classes': array([b'0', b'1'], dtype=object)}, {'logits': array([-2.69416], dtype=float32), 'logistic': array([0.06331885], dtype=float32), 'probabilities': array([0.93668115, 0.06331884], dtype=float32), 'class_ids': array([0]), 'classes': array([b'0'], dtype=object), 'all_class_ids': array([0, 1], dtype=int32), 'all_classes': array([b'0', b'1'], dtype=object)}, {'logits': array([0.82932967], dtype=float32), 'logistic': array([0.6962132], dtype=float32), 'probabilities': array([0.3037868, 0.6962132], dtype=float32), 'class_ids': array([1]), 'classes': array([b'1'], dtype=object), 'all_class_ids': array([0, 1], dtype=int32), 'all_classes': array([b'0', b'1'], dtype=object)}, {'logits': array([-0.1825367], dtype=float32), 'logistic': array([0.45449212], dtype=float32), 'probabilities': array([0.5455079 , 0.45449215], dtype=float32), 'class_ids': array([0]), 'classes': array([b'0'], dtype=object), 'all_class_ids': array([0, 1], dtype=int32), 'all_classes': array([b'0', b'1'], dtype=object)}, {'logits': array([-2.5585868], dtype=float32), 'logistic': array([0.0718517], dtype=float32), 'probabilities': array([0.92814827, 0.07185173], dtype=float32), 'class_ids': array([0]), 'classes': array([b'0'], dtype=object), 'all_class_ids': array([0, 1], dtype=int32), 'all_classes': array([b'0', b'1'], dtype=object)}, {'logits': array([-0.58902425], dtype=float32), 'logistic': array([0.3568588], dtype=float32), 'probabilities': array([0.6431412 , 0.35685876], dtype=float32), 'class_ids': array([0]), 'classes': array([b'0'], dtype=object), 'all_class_ids': array([0, 1], dtype=int32), 'all_classes': array([b'0', b'1'], dtype=object)}, {'logits': array([1.3266213], dtype=float32), 'logistic': array([0.7902812], dtype=float32), 'probabilities': array([0.20971878, 0.7902812 ], dtype=float32), 'class_ids': array([1]), 'classes': array([b'1'], dtype=object), 'all_class_ids': array([0, 1], dtype=int32), 'all_classes': array([b'0', b'1'], dtype=object)}, {'logits': array([-2.649004], dtype=float32), 'logistic': array([0.06605041], dtype=float32), 'probabilities': array([0.9339496 , 0.06605043], dtype=float32), 'class_ids': array([0]), 'classes': array([b'0'], dtype=object), 'all_class_ids': array([0, 1], dtype=int32), 'all_classes': array([b'0', b'1'], dtype=object)}, {'logits': array([-2.693328], dtype=float32), 'logistic': array([0.0633682], dtype=float32), 'probabilities': array([0.93663174, 0.06336821], dtype=float32), 'class_ids': array([0]), 'classes': array([b'0'], dtype=object), 'all_class_ids': array([0, 1], dtype=int32), 'all_classes': array([b'0', b'1'], dtype=object)}, {'logits': array([0.02525152], dtype=float32), 'logistic': array([0.50631255], dtype=float32), 'probabilities': array([0.49368745, 0.50631255], dtype=float32), 'class_ids': array([1]), 'classes': array([b'1'], dtype=object), 'all_class_ids': array([0, 1], dtype=int32), 'all_classes': array([b'0', b'1'], dtype=object)}, {'logits': array([-2.3523855], dtype=float32), 'logistic': array([0.08687633], dtype=float32), 'probabilities': array([0.91312367, 0.08687635], dtype=float32), 'class_ids': array([0]), 'classes': array([b'0'], dtype=object), 'all_class_ids': array([0, 1], dtype=int32), 'all_classes': array([b'0', b'1'], dtype=object)}, {'logits': array([-2.6005554], dtype=float32), 'logistic': array([0.06910264], dtype=float32), 'probabilities': array([0.9308973 , 0.06910268], dtype=float32), 'class_ids': array([0]), 'classes': array([b'0'], dtype=object), 'all_class_ids': array([0, 1], dtype=int32), 'all_classes': array([b'0', b'1'], dtype=object)}, {'logits': array([-1.9267753], dtype=float32), 'logistic': array([0.12710792], dtype=float32), 'probabilities': array([0.8728921 , 0.12710793], dtype=float32), 'class_ids': array([0]), 'classes': array([b'0'], dtype=object), 'all_class_ids': array([0, 1], dtype=int32), 'all_classes': array([b'0', b'1'], dtype=object)}, {'logits': array([-3.0363398], dtype=float32), 'logistic': array([0.04581091], dtype=float32), 'probabilities': array([0.95418906, 0.0458109 ], dtype=float32), 'class_ids': array([0]), 'classes': array([b'0'], dtype=object), 'all_class_ids': array([0, 1], dtype=int32), 'all_classes': array([b'0', b'1'], dtype=object)}, {'logits': array([0.2118565], dtype=float32), 'logistic': array([0.5527669], dtype=float32), 'probabilities': array([0.44723308, 0.5527669 ], dtype=float32), 'class_ids': array([1]), 'classes': array([b'1'], dtype=object), 'all_class_ids': array([0, 1], dtype=int32), 'all_classes': array([b'0', b'1'], dtype=object)}, {'logits': array([-2.4876888], dtype=float32), 'logistic': array([0.07672572], dtype=float32), 'probabilities': array([0.9232743 , 0.07672577], dtype=float32), 'class_ids': array([0]), 'classes': array([b'0'], dtype=object), 'all_class_ids': array([0, 1], dtype=int32), 'all_classes': array([b'0', b'1'], dtype=object)}, {'logits': array([-3.4493558], dtype=float32), 'logistic': array([0.03078806], dtype=float32), 'probabilities': array([0.96921194, 0.03078808], dtype=float32), 'class_ids': array([0]), 'classes': array([b'0'], dtype=object), 'all_class_ids': array([0, 1], dtype=int32), 'all_classes': array([b'0', b'1'], dtype=object)}, {'logits': array([-2.7620578], dtype=float32), 'logistic': array([0.05940926], dtype=float32), 'probabilities': array([0.9405908 , 0.05940928], dtype=float32), 'class_ids': array([0]), 'classes': array([b'0'], dtype=object), 'all_class_ids': array([0, 1], dtype=int32), 'all_classes': array([b'0', b'1'], dtype=object)}, {'logits': array([-2.4536054], dtype=float32), 'logistic': array([0.07917526], dtype=float32), 'probabilities': array([0.9208247 , 0.07917529], dtype=float32), 'class_ids': array([0]), 'classes': array([b'0'], dtype=object), 'all_class_ids': array([0, 1], dtype=int32), 'all_classes': array([b'0', b'1'], dtype=object)}, {'logits': array([-2.493582], dtype=float32), 'logistic': array([0.07630929], dtype=float32), 'probabilities': array([0.92369074, 0.07630934], dtype=float32), 'class_ids': array([0]), 'classes': array([b'0'], dtype=object), 'all_class_ids': array([0, 1], dtype=int32), 'all_classes': array([b'0', b'1'], dtype=object)}, {'logits': array([-2.0832136], dtype=float32), 'logistic': array([0.11073908], dtype=float32), 'probabilities': array([0.8892609 , 0.11073911], dtype=float32), 'class_ids': array([0]), 'classes': array([b'0'], dtype=object), 'all_class_ids': array([0, 1], dtype=int32), 'all_classes': array([b'0', b'1'], dtype=object)}, {'logits': array([1.6135013], dtype=float32), 'logistic': array([0.8338969], dtype=float32), 'probabilities': array([0.16610308, 0.83389693], dtype=float32), 'class_ids': array([1]), 'classes': array([b'1'], dtype=object), 'all_class_ids': array([0, 1], dtype=int32), 'all_classes': array([b'0', b'1'], dtype=object)}, {'logits': array([-2.685997], dtype=float32), 'logistic': array([0.06380469], dtype=float32), 'probabilities': array([0.93619525, 0.06380471], dtype=float32), 'class_ids': array([0]), 'classes': array([b'0'], dtype=object), 'all_class_ids': array([0, 1], dtype=int32), 'all_classes': array([b'0', b'1'], dtype=object)}, {'logits': array([-2.5561328], dtype=float32), 'logistic': array([0.07201555], dtype=float32), 'probabilities': array([0.9279844 , 0.07201555], dtype=float32), 'class_ids': array([0]), 'classes': array([b'0'], dtype=object), 'all_class_ids': array([0, 1], dtype=int32), 'all_classes': array([b'0', b'1'], dtype=object)}, {'logits': array([0.34462512], dtype=float32), 'logistic': array([0.58531356], dtype=float32), 'probabilities': array([0.41468644, 0.5853136 ], dtype=float32), 'class_ids': array([1]), 'classes': array([b'1'], dtype=object), 'all_class_ids': array([0, 1], dtype=int32), 'all_classes': array([b'0', b'1'], dtype=object)}, {'logits': array([2.1578927], dtype=float32), 'logistic': array([0.896404], dtype=float32), 'probabilities': array([0.10359598, 0.896404  ], dtype=float32), 'class_ids': array([1]), 'classes': array([b'1'], dtype=object), 'all_class_ids': array([0, 1], dtype=int32), 'all_classes': array([b'0', b'1'], dtype=object)}, {'logits': array([-2.678276], dtype=float32), 'logistic': array([0.06426746], dtype=float32), 'probabilities': array([0.9357325 , 0.06426747], dtype=float32), 'class_ids': array([0]), 'classes': array([b'0'], dtype=object), 'all_class_ids': array([0, 1], dtype=int32), 'all_classes': array([b'0', b'1'], dtype=object)}, {'logits': array([-2.3867505], dtype=float32), 'logistic': array([0.08418861], dtype=float32), 'probabilities': array([0.9158114 , 0.08418864], dtype=float32), 'class_ids': array([0]), 'classes': array([b'0'], dtype=object), 'all_class_ids': array([0, 1], dtype=int32), 'all_classes': array([b'0', b'1'], dtype=object)}, {'logits': array([-2.693328], dtype=float32), 'logistic': array([0.0633682], dtype=float32), 'probabilities': array([0.93663174, 0.06336821], dtype=float32), 'class_ids': array([0]), 'classes': array([b'0'], dtype=object), 'all_class_ids': array([0, 1], dtype=int32), 'all_classes': array([b'0', b'1'], dtype=object)}, {'logits': array([-0.86942893], dtype=float32), 'logistic': array([0.29537314], dtype=float32), 'probabilities': array([0.70462686, 0.29537314], dtype=float32), 'class_ids': array([0]), 'classes': array([b'0'], dtype=object), 'all_class_ids': array([0, 1], dtype=int32), 'all_classes': array([b'0', b'1'], dtype=object)}, {'logits': array([-2.335332], dtype=float32), 'logistic': array([0.08823872], dtype=float32), 'probabilities': array([0.9117612 , 0.08823875], dtype=float32), 'class_ids': array([0]), 'classes': array([b'0'], dtype=object), 'all_class_ids': array([0, 1], dtype=int32), 'all_classes': array([b'0', b'1'], dtype=object)}, {'logits': array([-2.0907352], dtype=float32), 'logistic': array([0.11000055], dtype=float32), 'probabilities': array([0.88999945, 0.11000058], dtype=float32), 'class_ids': array([0]), 'classes': array([b'0'], dtype=object), 'all_class_ids': array([0, 1], dtype=int32), 'all_classes': array([b'0', b'1'], dtype=object)}, {'logits': array([-3.0714717], dtype=float32), 'logistic': array([0.04429942], dtype=float32), 'probabilities': array([0.9557005 , 0.04429948], dtype=float32), 'class_ids': array([0]), 'classes': array([b'0'], dtype=object), 'all_class_ids': array([0, 1], dtype=int32), 'all_classes': array([b'0', b'1'], dtype=object)}, {'logits': array([-2.0907307], dtype=float32), 'logistic': array([0.110001], dtype=float32), 'probabilities': array([0.889999  , 0.11000102], dtype=float32), 'class_ids': array([0]), 'classes': array([b'0'], dtype=object), 'all_class_ids': array([0, 1], dtype=int32), 'all_classes': array([b'0', b'1'], dtype=object)}, {'logits': array([-2.686621], dtype=float32), 'logistic': array([0.06376743], dtype=float32), 'probabilities': array([0.93623257, 0.06376746], dtype=float32), 'class_ids': array([0]), 'classes': array([b'0'], dtype=object), 'all_class_ids': array([0, 1], dtype=int32), 'all_classes': array([b'0', b'1'], dtype=object)}, {'logits': array([-2.0052662], dtype=float32), 'logistic': array([0.11865109], dtype=float32), 'probabilities': array([0.88134885, 0.11865111], dtype=float32), 'class_ids': array([0]), 'classes': array([b'0'], dtype=object), 'all_class_ids': array([0, 1], dtype=int32), 'all_classes': array([b'0', b'1'], dtype=object)}, {'logits': array([-2.8164206], dtype=float32), 'logistic': array([0.05644324], dtype=float32), 'probabilities': array([0.9435567 , 0.05644326], dtype=float32), 'class_ids': array([0]), 'classes': array([b'0'], dtype=object), 'all_class_ids': array([0, 1], dtype=int32), 'all_classes': array([b'0', b'1'], dtype=object)}, {'logits': array([-1.011378], dtype=float32), 'logistic': array([0.26671028], dtype=float32), 'probabilities': array([0.7332897 , 0.26671022], dtype=float32), 'class_ids': array([0]), 'classes': array([b'0'], dtype=object), 'all_class_ids': array([0, 1], dtype=int32), 'all_classes': array([b'0', b'1'], dtype=object)}, {'logits': array([-1.8845457], dtype=float32), 'logistic': array([0.13186762], dtype=float32), 'probabilities': array([0.8681324 , 0.13186763], dtype=float32), 'class_ids': array([0]), 'classes': array([b'0'], dtype=object), 'all_class_ids': array([0, 1], dtype=int32), 'all_classes': array([b'0', b'1'], dtype=object)}, {'logits': array([-2.7471185], dtype=float32), 'logistic': array([0.0602496], dtype=float32), 'probabilities': array([0.93975043, 0.0602496 ], dtype=float32), 'class_ids': array([0]), 'classes': array([b'0'], dtype=object), 'all_class_ids': array([0, 1], dtype=int32), 'all_classes': array([b'0', b'1'], dtype=object)}, {'logits': array([-1.9127373], dtype=float32), 'logistic': array([0.12867367], dtype=float32), 'probabilities': array([0.8713263 , 0.12867364], dtype=float32), 'class_ids': array([0]), 'classes': array([b'0'], dtype=object), 'all_class_ids': array([0, 1], dtype=int32), 'all_classes': array([b'0', b'1'], dtype=object)}, {'logits': array([0.00380839], dtype=float32), 'logistic': array([0.5009521], dtype=float32), 'probabilities': array([0.49904788, 0.50095206], dtype=float32), 'class_ids': array([1]), 'classes': array([b'1'], dtype=object), 'all_class_ids': array([0, 1], dtype=int32), 'all_classes': array([b'0', b'1'], dtype=object)}, {'logits': array([-2.0907307], dtype=float32), 'logistic': array([0.110001], dtype=float32), 'probabilities': array([0.889999  , 0.11000102], dtype=float32), 'class_ids': array([0]), 'classes': array([b'0'], dtype=object), 'all_class_ids': array([0, 1], dtype=int32), 'all_classes': array([b'0', b'1'], dtype=object)}, {'logits': array([0.34475076], dtype=float32), 'logistic': array([0.5853441], dtype=float32), 'probabilities': array([0.41465592, 0.5853441 ], dtype=float32), 'class_ids': array([1]), 'classes': array([b'1'], dtype=object), 'all_class_ids': array([0, 1], dtype=int32), 'all_classes': array([b'0', b'1'], dtype=object)}, {'logits': array([-2.3773367], dtype=float32), 'logistic': array([0.08491728], dtype=float32), 'probabilities': array([0.9150827 , 0.08491728], dtype=float32), 'class_ids': array([0]), 'classes': array([b'0'], dtype=object), 'all_class_ids': array([0, 1], dtype=int32), 'all_classes': array([b'0', b'1'], dtype=object)}, {'logits': array([1.7873379], dtype=float32), 'logistic': array([0.8566006], dtype=float32), 'probabilities': array([0.1433994, 0.8566006], dtype=float32), 'class_ids': array([1]), 'classes': array([b'1'], dtype=object), 'all_class_ids': array([0, 1], dtype=int32), 'all_classes': array([b'0', b'1'], dtype=object)}, {'logits': array([0.64585525], dtype=float32), 'logistic': array([0.65607584], dtype=float32), 'probabilities': array([0.34392416, 0.65607584], dtype=float32), 'class_ids': array([1]), 'classes': array([b'1'], dtype=object), 'all_class_ids': array([0, 1], dtype=int32), 'all_classes': array([b'0', b'1'], dtype=object)}, {'logits': array([-2.8309176], dtype=float32), 'logistic': array([0.0556761], dtype=float32), 'probabilities': array([0.94432384, 0.05567613], dtype=float32), 'class_ids': array([0]), 'classes': array([b'0'], dtype=object), 'all_class_ids': array([0, 1], dtype=int32), 'all_classes': array([b'0', b'1'], dtype=object)}, {'logits': array([1.6303153], dtype=float32), 'logistic': array([0.8362129], dtype=float32), 'probabilities': array([0.16378719, 0.8362129 ], dtype=float32), 'class_ids': array([1]), 'classes': array([b'1'], dtype=object), 'all_class_ids': array([0, 1], dtype=int32), 'all_classes': array([b'0', b'1'], dtype=object)}, {'logits': array([-2.7932267], dtype=float32), 'logistic': array([0.05769125], dtype=float32), 'probabilities': array([0.94230866, 0.05769129], dtype=float32), 'class_ids': array([0]), 'classes': array([b'0'], dtype=object), 'all_class_ids': array([0, 1], dtype=int32), 'all_classes': array([b'0', b'1'], dtype=object)}, {'logits': array([-2.0891883], dtype=float32), 'logistic': array([0.1101521], dtype=float32), 'probabilities': array([0.88984793, 0.11015211], dtype=float32), 'class_ids': array([0]), 'classes': array([b'0'], dtype=object), 'all_class_ids': array([0, 1], dtype=int32), 'all_classes': array([b'0', b'1'], dtype=object)}, {'logits': array([2.2065697], dtype=float32), 'logistic': array([0.90083796], dtype=float32), 'probabilities': array([0.09916208, 0.9008379 ], dtype=float32), 'class_ids': array([1]), 'classes': array([b'1'], dtype=object), 'all_class_ids': array([0, 1], dtype=int32), 'all_classes': array([b'0', b'1'], dtype=object)}, {'logits': array([-2.4871385], dtype=float32), 'logistic': array([0.07676473], dtype=float32), 'probabilities': array([0.9232353 , 0.07676475], dtype=float32), 'class_ids': array([0]), 'classes': array([b'0'], dtype=object), 'all_class_ids': array([0, 1], dtype=int32), 'all_classes': array([b'0', b'1'], dtype=object)}, {'logits': array([0.7973281], dtype=float32), 'logistic': array([0.68940264], dtype=float32), 'probabilities': array([0.31059736, 0.68940264], dtype=float32), 'class_ids': array([1]), 'classes': array([b'1'], dtype=object), 'all_class_ids': array([0, 1], dtype=int32), 'all_classes': array([b'0', b'1'], dtype=object)}, {'logits': array([-2.6934884], dtype=float32), 'logistic': array([0.06335866], dtype=float32), 'probabilities': array([0.9366413 , 0.06335869], dtype=float32), 'class_ids': array([0]), 'classes': array([b'0'], dtype=object), 'all_class_ids': array([0, 1], dtype=int32), 'all_classes': array([b'0', b'1'], dtype=object)}, {'logits': array([-1.56223], dtype=float32), 'logistic': array([0.17332685], dtype=float32), 'probabilities': array([0.8266731, 0.1733269], dtype=float32), 'class_ids': array([0]), 'classes': array([b'0'], dtype=object), 'all_class_ids': array([0, 1], dtype=int32), 'all_classes': array([b'0', b'1'], dtype=object)}, {'logits': array([-3.2431662], dtype=float32), 'logistic': array([0.03757322], dtype=float32), 'probabilities': array([0.9624268 , 0.03757323], dtype=float32), 'class_ids': array([0]), 'classes': array([b'0'], dtype=object), 'all_class_ids': array([0, 1], dtype=int32), 'all_classes': array([b'0', b'1'], dtype=object)}, {'logits': array([-2.3523855], dtype=float32), 'logistic': array([0.08687633], dtype=float32), 'probabilities': array([0.91312367, 0.08687635], dtype=float32), 'class_ids': array([0]), 'classes': array([b'0'], dtype=object), 'all_class_ids': array([0, 1], dtype=int32), 'all_classes': array([b'0', b'1'], dtype=object)}, {'logits': array([0.1128415], dtype=float32), 'logistic': array([0.5281805], dtype=float32), 'probabilities': array([0.47181952, 0.5281805 ], dtype=float32), 'class_ids': array([1]), 'classes': array([b'1'], dtype=object), 'all_class_ids': array([0, 1], dtype=int32), 'all_classes': array([b'0', b'1'], dtype=object)}, {'logits': array([1.9015797], dtype=float32), 'logistic': array([0.8700702], dtype=float32), 'probabilities': array([0.12992978, 0.8700702 ], dtype=float32), 'class_ids': array([1]), 'classes': array([b'1'], dtype=object), 'all_class_ids': array([0, 1], dtype=int32), 'all_classes': array([b'0', b'1'], dtype=object)}, {'logits': array([-2.0169203], dtype=float32), 'logistic': array([0.11743778], dtype=float32), 'probabilities': array([0.8825622 , 0.11743781], dtype=float32), 'class_ids': array([0]), 'classes': array([b'0'], dtype=object), 'all_class_ids': array([0, 1], dtype=int32), 'all_classes': array([b'0', b'1'], dtype=object)}, {'logits': array([-1.3014443], dtype=float32), 'logistic': array([0.21392202], dtype=float32), 'probabilities': array([0.7860779 , 0.21392205], dtype=float32), 'class_ids': array([0]), 'classes': array([b'0'], dtype=object), 'all_class_ids': array([0, 1], dtype=int32), 'all_classes': array([b'0', b'1'], dtype=object)}, {'logits': array([-2.4529772], dtype=float32), 'logistic': array([0.07922107], dtype=float32), 'probabilities': array([0.92077893, 0.07922111], dtype=float32), 'class_ids': array([0]), 'classes': array([b'0'], dtype=object), 'all_class_ids': array([0, 1], dtype=int32), 'all_classes': array([b'0', b'1'], dtype=object)}, {'logits': array([-2.4444027], dtype=float32), 'logistic': array([0.0798488], dtype=float32), 'probabilities': array([0.9201512 , 0.07984884], dtype=float32), 'class_ids': array([0]), 'classes': array([b'0'], dtype=object), 'all_class_ids': array([0, 1], dtype=int32), 'all_classes': array([b'0', b'1'], dtype=object)}, {'logits': array([-1.6063199], dtype=float32), 'logistic': array([0.16710019], dtype=float32), 'probabilities': array([0.8328998 , 0.16710016], dtype=float32), 'class_ids': array([0]), 'classes': array([b'0'], dtype=object), 'all_class_ids': array([0, 1], dtype=int32), 'all_classes': array([b'0', b'1'], dtype=object)}, {'logits': array([-1.8126895], dtype=float32), 'logistic': array([0.14031336], dtype=float32), 'probabilities': array([0.8596866 , 0.14031339], dtype=float32), 'class_ids': array([0]), 'classes': array([b'0'], dtype=object), 'all_class_ids': array([0, 1], dtype=int32), 'all_classes': array([b'0', b'1'], dtype=object)}, {'logits': array([2.4685383], dtype=float32), 'logistic': array([0.9219066], dtype=float32), 'probabilities': array([0.0780934, 0.9219066], dtype=float32), 'class_ids': array([1]), 'classes': array([b'1'], dtype=object), 'all_class_ids': array([0, 1], dtype=int32), 'all_classes': array([b'0', b'1'], dtype=object)}, {'logits': array([-0.15437077], dtype=float32), 'logistic': array([0.46148378], dtype=float32), 'probabilities': array([0.5385162 , 0.46148375], dtype=float32), 'class_ids': array([0]), 'classes': array([b'0'], dtype=object), 'all_class_ids': array([0, 1], dtype=int32), 'all_classes': array([b'0', b'1'], dtype=object)}, {'logits': array([-2.3842041], dtype=float32), 'logistic': array([0.08438519], dtype=float32), 'probabilities': array([0.91561484, 0.08438516], dtype=float32), 'class_ids': array([0]), 'classes': array([b'0'], dtype=object), 'all_class_ids': array([0, 1], dtype=int32), 'all_classes': array([b'0', b'1'], dtype=object)}, {'logits': array([-1.5255592], dtype=float32), 'logistic': array([0.17864436], dtype=float32), 'probabilities': array([0.82135564, 0.17864436], dtype=float32), 'class_ids': array([0]), 'classes': array([b'0'], dtype=object), 'all_class_ids': array([0, 1], dtype=int32), 'all_classes': array([b'0', b'1'], dtype=object)}, {'logits': array([0.34483302], dtype=float32), 'logistic': array([0.58536404], dtype=float32), 'probabilities': array([0.41463596, 0.58536404], dtype=float32), 'class_ids': array([1]), 'classes': array([b'1'], dtype=object), 'all_class_ids': array([0, 1], dtype=int32), 'all_classes': array([b'0', b'1'], dtype=object)}, {'logits': array([0.68736005], dtype=float32), 'logistic': array([0.6653794], dtype=float32), 'probabilities': array([0.3346206 , 0.66537935], dtype=float32), 'class_ids': array([1]), 'classes': array([b'1'], dtype=object), 'all_class_ids': array([0, 1], dtype=int32), 'all_classes': array([b'0', b'1'], dtype=object)}, {'logits': array([-1.7414325], dtype=float32), 'logistic': array([0.14913103], dtype=float32), 'probabilities': array([0.85086894, 0.14913107], dtype=float32), 'class_ids': array([0]), 'classes': array([b'0'], dtype=object), 'all_class_ids': array([0, 1], dtype=int32), 'all_classes': array([b'0', b'1'], dtype=object)}, {'logits': array([-1.5118194], dtype=float32), 'logistic': array([0.18066931], dtype=float32), 'probabilities': array([0.81933063, 0.18066931], dtype=float32), 'class_ids': array([0]), 'classes': array([b'0'], dtype=object), 'all_class_ids': array([0, 1], dtype=int32), 'all_classes': array([b'0', b'1'], dtype=object)}, {'logits': array([-2.503114], dtype=float32), 'logistic': array([0.07564014], dtype=float32), 'probabilities': array([0.92435986, 0.07564017], dtype=float32), 'class_ids': array([0]), 'classes': array([b'0'], dtype=object), 'all_class_ids': array([0, 1], dtype=int32), 'all_classes': array([b'0', b'1'], dtype=object)}, {'logits': array([-2.284326], dtype=float32), 'logistic': array([0.09242937], dtype=float32), 'probabilities': array([0.9075706 , 0.09242941], dtype=float32), 'class_ids': array([0]), 'classes': array([b'0'], dtype=object), 'all_class_ids': array([0, 1], dtype=int32), 'all_classes': array([b'0', b'1'], dtype=object)}, {'logits': array([1.1856964], dtype=float32), 'logistic': array([0.76597047], dtype=float32), 'probabilities': array([0.23402952, 0.76597047], dtype=float32), 'class_ids': array([1]), 'classes': array([b'1'], dtype=object), 'all_class_ids': array([0, 1], dtype=int32), 'all_classes': array([b'0', b'1'], dtype=object)}, {'logits': array([-3.3591826], dtype=float32), 'logistic': array([0.03359574], dtype=float32), 'probabilities': array([0.9664042 , 0.03359575], dtype=float32), 'class_ids': array([0]), 'classes': array([b'0'], dtype=object), 'all_class_ids': array([0, 1], dtype=int32), 'all_classes': array([b'0', b'1'], dtype=object)}, {'logits': array([-2.5730507], dtype=float32), 'logistic': array([0.07089308], dtype=float32), 'probabilities': array([0.9291069 , 0.07089309], dtype=float32), 'class_ids': array([0]), 'classes': array([b'0'], dtype=object), 'all_class_ids': array([0, 1], dtype=int32), 'all_classes': array([b'0', b'1'], dtype=object)}, {'logits': array([-0.5089809], dtype=float32), 'logistic': array([0.3754325], dtype=float32), 'probabilities': array([0.62456757, 0.3754325 ], dtype=float32), 'class_ids': array([0]), 'classes': array([b'0'], dtype=object), 'all_class_ids': array([0, 1], dtype=int32), 'all_classes': array([b'0', b'1'], dtype=object)}, {'logits': array([0.3451537], dtype=float32), 'logistic': array([0.5854418], dtype=float32), 'probabilities': array([0.41455814, 0.5854419 ], dtype=float32), 'class_ids': array([1]), 'classes': array([b'1'], dtype=object), 'all_class_ids': array([0, 1], dtype=int32), 'all_classes': array([b'0', b'1'], dtype=object)}, {'logits': array([-1.3028142], dtype=float32), 'logistic': array([0.21369177], dtype=float32), 'probabilities': array([0.7863082 , 0.21369176], dtype=float32), 'class_ids': array([0]), 'classes': array([b'0'], dtype=object), 'all_class_ids': array([0, 1], dtype=int32), 'all_classes': array([b'0', b'1'], dtype=object)}, {'logits': array([-2.698351], dtype=float32), 'logistic': array([0.06307071], dtype=float32), 'probabilities': array([0.9369293 , 0.06307074], dtype=float32), 'class_ids': array([0]), 'classes': array([b'0'], dtype=object), 'all_class_ids': array([0, 1], dtype=int32), 'all_classes': array([b'0', b'1'], dtype=object)}, {'logits': array([-1.9876405], dtype=float32), 'logistic': array([0.12050673], dtype=float32), 'probabilities': array([0.8794933 , 0.12050671], dtype=float32), 'class_ids': array([0]), 'classes': array([b'0'], dtype=object), 'all_class_ids': array([0, 1], dtype=int32), 'all_classes': array([b'0', b'1'], dtype=object)}, {'logits': array([-2.7374952], dtype=float32), 'logistic': array([0.06079677], dtype=float32), 'probabilities': array([0.9392032 , 0.06079677], dtype=float32), 'class_ids': array([0]), 'classes': array([b'0'], dtype=object), 'all_class_ids': array([0, 1], dtype=int32), 'all_classes': array([b'0', b'1'], dtype=object)}, {'logits': array([-3.2431662], dtype=float32), 'logistic': array([0.03757322], dtype=float32), 'probabilities': array([0.9624268 , 0.03757323], dtype=float32), 'class_ids': array([0]), 'classes': array([b'0'], dtype=object), 'all_class_ids': array([0, 1], dtype=int32), 'all_classes': array([b'0', b'1'], dtype=object)}, {'logits': array([-2.7703776], dtype=float32), 'logistic': array([0.05894604], dtype=float32), 'probabilities': array([0.94105387, 0.05894606], dtype=float32), 'class_ids': array([0]), 'classes': array([b'0'], dtype=object), 'all_class_ids': array([0, 1], dtype=int32), 'all_classes': array([b'0', b'1'], dtype=object)}, {'logits': array([2.3153174], dtype=float32), 'logistic': array([0.9101377], dtype=float32), 'probabilities': array([0.0898623, 0.9101377], dtype=float32), 'class_ids': array([1]), 'classes': array([b'1'], dtype=object), 'all_class_ids': array([0, 1], dtype=int32), 'all_classes': array([b'0', b'1'], dtype=object)}, {'logits': array([0.9780771], dtype=float32), 'logistic': array([0.72672653], dtype=float32), 'probabilities': array([0.2732735, 0.7267265], dtype=float32), 'class_ids': array([1]), 'classes': array([b'1'], dtype=object), 'all_class_ids': array([0, 1], dtype=int32), 'all_classes': array([b'0', b'1'], dtype=object)}, {'logits': array([-2.5928693], dtype=float32), 'logistic': array([0.06959873], dtype=float32), 'probabilities': array([0.9304012 , 0.06959875], dtype=float32), 'class_ids': array([0]), 'classes': array([b'0'], dtype=object), 'all_class_ids': array([0, 1], dtype=int32), 'all_classes': array([b'0', b'1'], dtype=object)}, {'logits': array([0.20019569], dtype=float32), 'logistic': array([0.5498824], dtype=float32), 'probabilities': array([0.45011756, 0.5498824 ], dtype=float32), 'class_ids': array([1]), 'classes': array([b'1'], dtype=object), 'all_class_ids': array([0, 1], dtype=int32), 'all_classes': array([b'0', b'1'], dtype=object)}, {'logits': array([-1.0756185], dtype=float32), 'logistic': array([0.25433606], dtype=float32), 'probabilities': array([0.74566394, 0.2543361 ], dtype=float32), 'class_ids': array([0]), 'classes': array([b'0'], dtype=object), 'all_class_ids': array([0, 1], dtype=int32), 'all_classes': array([b'0', b'1'], dtype=object)}, {'logits': array([-2.7380152], dtype=float32), 'logistic': array([0.06076708], dtype=float32), 'probabilities': array([0.9392329 , 0.06076709], dtype=float32), 'class_ids': array([0]), 'classes': array([b'0'], dtype=object), 'all_class_ids': array([0, 1], dtype=int32), 'all_classes': array([b'0', b'1'], dtype=object)}, {'logits': array([-2.2844172], dtype=float32), 'logistic': array([0.09242177], dtype=float32), 'probabilities': array([0.9075783 , 0.09242178], dtype=float32), 'class_ids': array([0]), 'classes': array([b'0'], dtype=object), 'all_class_ids': array([0, 1], dtype=int32), 'all_classes': array([b'0', b'1'], dtype=object)}, {'logits': array([-2.1194468], dtype=float32), 'logistic': array([0.10722101], dtype=float32), 'probabilities': array([0.89277893, 0.10722101], dtype=float32), 'class_ids': array([0]), 'classes': array([b'0'], dtype=object), 'all_class_ids': array([0, 1], dtype=int32), 'all_classes': array([b'0', b'1'], dtype=object)}, {'logits': array([-2.4177716], dtype=float32), 'logistic': array([0.08182749], dtype=float32), 'probabilities': array([0.9181724 , 0.08182752], dtype=float32), 'class_ids': array([0]), 'classes': array([b'0'], dtype=object), 'all_class_ids': array([0, 1], dtype=int32), 'all_classes': array([b'0', b'1'], dtype=object)}, {'logits': array([0.34473765], dtype=float32), 'logistic': array([0.58534086], dtype=float32), 'probabilities': array([0.4146591 , 0.58534086], dtype=float32), 'class_ids': array([1]), 'classes': array([b'1'], dtype=object), 'all_class_ids': array([0, 1], dtype=int32), 'all_classes': array([b'0', b'1'], dtype=object)}, {'logits': array([-2.7021396], dtype=float32), 'logistic': array([0.06284723], dtype=float32), 'probabilities': array([0.93715274, 0.06284722], dtype=float32), 'class_ids': array([0]), 'classes': array([b'0'], dtype=object), 'all_class_ids': array([0, 1], dtype=int32), 'all_classes': array([b'0', b'1'], dtype=object)}, {'logits': array([-0.60466135], dtype=float32), 'logistic': array([0.35327798], dtype=float32), 'probabilities': array([0.646722  , 0.35327798], dtype=float32), 'class_ids': array([0]), 'classes': array([b'0'], dtype=object), 'all_class_ids': array([0, 1], dtype=int32), 'all_classes': array([b'0', b'1'], dtype=object)}, {'logits': array([-0.8757211], dtype=float32), 'logistic': array([0.29406527], dtype=float32), 'probabilities': array([0.7059347 , 0.29406524], dtype=float32), 'class_ids': array([0]), 'classes': array([b'0'], dtype=object), 'all_class_ids': array([0, 1], dtype=int32), 'all_classes': array([b'0', b'1'], dtype=object)}, {'logits': array([-2.7965527], dtype=float32), 'logistic': array([0.05751073], dtype=float32), 'probabilities': array([0.94248927, 0.05751075], dtype=float32), 'class_ids': array([0]), 'classes': array([b'0'], dtype=object), 'all_class_ids': array([0, 1], dtype=int32), 'all_classes': array([b'0', b'1'], dtype=object)}, {'logits': array([-2.0783784], dtype=float32), 'logistic': array([0.11121616], dtype=float32), 'probabilities': array([0.8887839 , 0.11121616], dtype=float32), 'class_ids': array([0]), 'classes': array([b'0'], dtype=object), 'all_class_ids': array([0, 1], dtype=int32), 'all_classes': array([b'0', b'1'], dtype=object)}, {'logits': array([0.7151494], dtype=float32), 'logistic': array([0.671538], dtype=float32), 'probabilities': array([0.328462, 0.671538], dtype=float32), 'class_ids': array([1]), 'classes': array([b'1'], dtype=object), 'all_class_ids': array([0, 1], dtype=int32), 'all_classes': array([b'0', b'1'], dtype=object)}, {'logits': array([-0.51048374], dtype=float32), 'logistic': array([0.37508014], dtype=float32), 'probabilities': array([0.62491983, 0.3750801 ], dtype=float32), 'class_ids': array([0]), 'classes': array([b'0'], dtype=object), 'all_class_ids': array([0, 1], dtype=int32), 'all_classes': array([b'0', b'1'], dtype=object)}, {'logits': array([-2.4554803], dtype=float32), 'logistic': array([0.07903868], dtype=float32), 'probabilities': array([0.92096126, 0.0790387 ], dtype=float32), 'class_ids': array([0]), 'classes': array([b'0'], dtype=object), 'all_class_ids': array([0, 1], dtype=int32), 'all_classes': array([b'0', b'1'], dtype=object)}, {'logits': array([-0.7826201], dtype=float32), 'logistic': array([0.31375548], dtype=float32), 'probabilities': array([0.68624455, 0.31375548], dtype=float32), 'class_ids': array([0]), 'classes': array([b'0'], dtype=object), 'all_class_ids': array([0, 1], dtype=int32), 'all_classes': array([b'0', b'1'], dtype=object)}, {'logits': array([-1.5711678], dtype=float32), 'logistic': array([0.17204997], dtype=float32), 'probabilities': array([0.82795006, 0.17204997], dtype=float32), 'class_ids': array([0]), 'classes': array([b'0'], dtype=object), 'all_class_ids': array([0, 1], dtype=int32), 'all_classes': array([b'0', b'1'], dtype=object)}, {'logits': array([1.573689], dtype=float32), 'logistic': array([0.8283088], dtype=float32), 'probabilities': array([0.17169113, 0.8283089 ], dtype=float32), 'class_ids': array([1]), 'classes': array([b'1'], dtype=object), 'all_class_ids': array([0, 1], dtype=int32), 'all_classes': array([b'0', b'1'], dtype=object)}, {'logits': array([1.3796086], dtype=float32), 'logistic': array([0.79892814], dtype=float32), 'probabilities': array([0.20107187, 0.79892814], dtype=float32), 'class_ids': array([1]), 'classes': array([b'1'], dtype=object), 'all_class_ids': array([0, 1], dtype=int32), 'all_classes': array([b'0', b'1'], dtype=object)}, {'logits': array([-2.281235], dtype=float32), 'logistic': array([0.09268904], dtype=float32), 'probabilities': array([0.90731096, 0.09268904], dtype=float32), 'class_ids': array([0]), 'classes': array([b'0'], dtype=object), 'all_class_ids': array([0, 1], dtype=int32), 'all_classes': array([b'0', b'1'], dtype=object)}, {'logits': array([0.25883853], dtype=float32), 'logistic': array([0.5643507], dtype=float32), 'probabilities': array([0.43564925, 0.5643508 ], dtype=float32), 'class_ids': array([1]), 'classes': array([b'1'], dtype=object), 'all_class_ids': array([0, 1], dtype=int32), 'all_classes': array([b'0', b'1'], dtype=object)}, {'logits': array([-2.5543606], dtype=float32), 'logistic': array([0.07213405], dtype=float32), 'probabilities': array([0.927866  , 0.07213408], dtype=float32), 'class_ids': array([0]), 'classes': array([b'0'], dtype=object), 'all_class_ids': array([0, 1], dtype=int32), 'all_classes': array([b'0', b'1'], dtype=object)}, {'logits': array([-2.0907352], dtype=float32), 'logistic': array([0.11000055], dtype=float32), 'probabilities': array([0.88999945, 0.11000058], dtype=float32), 'class_ids': array([0]), 'classes': array([b'0'], dtype=object), 'all_class_ids': array([0, 1], dtype=int32), 'all_classes': array([b'0', b'1'], dtype=object)}, {'logits': array([-0.04775559], dtype=float32), 'logistic': array([0.48806337], dtype=float32), 'probabilities': array([0.5119366 , 0.48806334], dtype=float32), 'class_ids': array([0]), 'classes': array([b'0'], dtype=object), 'all_class_ids': array([0, 1], dtype=int32), 'all_classes': array([b'0', b'1'], dtype=object)}, {'logits': array([-2.3523986], dtype=float32), 'logistic': array([0.08687526], dtype=float32), 'probabilities': array([0.9131247, 0.0868753], dtype=float32), 'class_ids': array([0]), 'classes': array([b'0'], dtype=object), 'all_class_ids': array([0, 1], dtype=int32), 'all_classes': array([b'0', b'1'], dtype=object)}, {'logits': array([1.3803624], dtype=float32), 'logistic': array([0.7990492], dtype=float32), 'probabilities': array([0.2009508, 0.7990492], dtype=float32), 'class_ids': array([1]), 'classes': array([b'1'], dtype=object), 'all_class_ids': array([0, 1], dtype=int32), 'all_classes': array([b'0', b'1'], dtype=object)}, {'logits': array([1.1218793], dtype=float32), 'logistic': array([0.7543372], dtype=float32), 'probabilities': array([0.24566285, 0.7543372 ], dtype=float32), 'class_ids': array([1]), 'classes': array([b'1'], dtype=object), 'all_class_ids': array([0, 1], dtype=int32), 'all_classes': array([b'0', b'1'], dtype=object)}, {'logits': array([-2.5910652], dtype=float32), 'logistic': array([0.06971568], dtype=float32), 'probabilities': array([0.9302843 , 0.06971567], dtype=float32), 'class_ids': array([0]), 'classes': array([b'0'], dtype=object), 'all_class_ids': array([0, 1], dtype=int32), 'all_classes': array([b'0', b'1'], dtype=object)}, {'logits': array([0.34688127], dtype=float32), 'logistic': array([0.5858611], dtype=float32), 'probabilities': array([0.4141389, 0.5858611], dtype=float32), 'class_ids': array([1]), 'classes': array([b'1'], dtype=object), 'all_class_ids': array([0, 1], dtype=int32), 'all_classes': array([b'0', b'1'], dtype=object)}, {'logits': array([-2.1618905], dtype=float32), 'logistic': array([0.10322532], dtype=float32), 'probabilities': array([0.8967747 , 0.10322532], dtype=float32), 'class_ids': array([0]), 'classes': array([b'0'], dtype=object), 'all_class_ids': array([0, 1], dtype=int32), 'all_classes': array([b'0', b'1'], dtype=object)}, {'logits': array([-1.1210984], dtype=float32), 'logistic': array([0.24580762], dtype=float32), 'probabilities': array([0.7541924 , 0.24580759], dtype=float32), 'class_ids': array([0]), 'classes': array([b'0'], dtype=object), 'all_class_ids': array([0, 1], dtype=int32), 'all_classes': array([b'0', b'1'], dtype=object)}, {'logits': array([-2.660081], dtype=float32), 'logistic': array([0.06537038], dtype=float32), 'probabilities': array([0.93462956, 0.06537039], dtype=float32), 'class_ids': array([0]), 'classes': array([b'0'], dtype=object), 'all_class_ids': array([0, 1], dtype=int32), 'all_classes': array([b'0', b'1'], dtype=object)}, {'logits': array([0.34717143], dtype=float32), 'logistic': array([0.5859315], dtype=float32), 'probabilities': array([0.41406855, 0.58593154], dtype=float32), 'class_ids': array([1]), 'classes': array([b'1'], dtype=object), 'all_class_ids': array([0, 1], dtype=int32), 'all_classes': array([b'0', b'1'], dtype=object)}, {'logits': array([-0.0507481], dtype=float32), 'logistic': array([0.4873157], dtype=float32), 'probabilities': array([0.5126843 , 0.48731568], dtype=float32), 'class_ids': array([0]), 'classes': array([b'0'], dtype=object), 'all_class_ids': array([0, 1], dtype=int32), 'all_classes': array([b'0', b'1'], dtype=object)}, {'logits': array([-3.2104652], dtype=float32), 'logistic': array([0.03877378], dtype=float32), 'probabilities': array([0.9612262 , 0.03877379], dtype=float32), 'class_ids': array([0]), 'classes': array([b'0'], dtype=object), 'all_class_ids': array([0, 1], dtype=int32), 'all_classes': array([b'0', b'1'], dtype=object)}, {'logits': array([-1.949969], dtype=float32), 'logistic': array([0.12455675], dtype=float32), 'probabilities': array([0.8754433 , 0.12455674], dtype=float32), 'class_ids': array([0]), 'classes': array([b'0'], dtype=object), 'all_class_ids': array([0, 1], dtype=int32), 'all_classes': array([b'0', b'1'], dtype=object)}, {'logits': array([1.0477592], dtype=float32), 'logistic': array([0.74034435], dtype=float32), 'probabilities': array([0.25965562, 0.74034435], dtype=float32), 'class_ids': array([1]), 'classes': array([b'1'], dtype=object), 'all_class_ids': array([0, 1], dtype=int32), 'all_classes': array([b'0', b'1'], dtype=object)}, {'logits': array([-0.65218866], dtype=float32), 'logistic': array([0.3424965], dtype=float32), 'probabilities': array([0.6575035 , 0.34249648], dtype=float32), 'class_ids': array([0]), 'classes': array([b'0'], dtype=object), 'all_class_ids': array([0, 1], dtype=int32), 'all_classes': array([b'0', b'1'], dtype=object)}, {'logits': array([0.8392031], dtype=float32), 'logistic': array([0.6982974], dtype=float32), 'probabilities': array([0.30170265, 0.6982973 ], dtype=float32), 'class_ids': array([1]), 'classes': array([b'1'], dtype=object), 'all_class_ids': array([0, 1], dtype=int32), 'all_classes': array([b'0', b'1'], dtype=object)}, {'logits': array([-0.78369904], dtype=float32), 'logistic': array([0.31352323], dtype=float32), 'probabilities': array([0.6864768 , 0.31352323], dtype=float32), 'class_ids': array([0]), 'classes': array([b'0'], dtype=object), 'all_class_ids': array([0, 1], dtype=int32), 'all_classes': array([b'0', b'1'], dtype=object)}, {'logits': array([-2.780411], dtype=float32), 'logistic': array([0.0583919], dtype=float32), 'probabilities': array([0.941608  , 0.05839195], dtype=float32), 'class_ids': array([0]), 'classes': array([b'0'], dtype=object), 'all_class_ids': array([0, 1], dtype=int32), 'all_classes': array([b'0', b'1'], dtype=object)}, {'logits': array([-2.4185386], dtype=float32), 'logistic': array([0.08176991], dtype=float32), 'probabilities': array([0.91823006, 0.08176991], dtype=float32), 'class_ids': array([0]), 'classes': array([b'0'], dtype=object), 'all_class_ids': array([0, 1], dtype=int32), 'all_classes': array([b'0', b'1'], dtype=object)}, {'logits': array([-2.314677], dtype=float32), 'logistic': array([0.08991468], dtype=float32), 'probabilities': array([0.9100854 , 0.08991469], dtype=float32), 'class_ids': array([0]), 'classes': array([b'0'], dtype=object), 'all_class_ids': array([0, 1], dtype=int32), 'all_classes': array([b'0', b'1'], dtype=object)}, {'logits': array([-4.2743993], dtype=float32), 'logistic': array([0.01372933], dtype=float32), 'probabilities': array([0.98627067, 0.01372929], dtype=float32), 'class_ids': array([0]), 'classes': array([b'0'], dtype=object), 'all_class_ids': array([0, 1], dtype=int32), 'all_classes': array([b'0', b'1'], dtype=object)}, {'logits': array([1.4575593], dtype=float32), 'logistic': array([0.81115913], dtype=float32), 'probabilities': array([0.1888409, 0.8111591], dtype=float32), 'class_ids': array([1]), 'classes': array([b'1'], dtype=object), 'all_class_ids': array([0, 1], dtype=int32), 'all_classes': array([b'0', b'1'], dtype=object)}, {'logits': array([0.27949107], dtype=float32), 'logistic': array([0.5694214], dtype=float32), 'probabilities': array([0.43057856, 0.56942147], dtype=float32), 'class_ids': array([1]), 'classes': array([b'1'], dtype=object), 'all_class_ids': array([0, 1], dtype=int32), 'all_classes': array([b'0', b'1'], dtype=object)}, {'logits': array([-2.0907307], dtype=float32), 'logistic': array([0.110001], dtype=float32), 'probabilities': array([0.889999  , 0.11000102], dtype=float32), 'class_ids': array([0]), 'classes': array([b'0'], dtype=object), 'all_class_ids': array([0, 1], dtype=int32), 'all_classes': array([b'0', b'1'], dtype=object)}, {'logits': array([-1.6423303], dtype=float32), 'logistic': array([0.16214824], dtype=float32), 'probabilities': array([0.83785176, 0.16214822], dtype=float32), 'class_ids': array([0]), 'classes': array([b'0'], dtype=object), 'all_class_ids': array([0, 1], dtype=int32), 'all_classes': array([b'0', b'1'], dtype=object)}, {'logits': array([1.1298841], dtype=float32), 'logistic': array([0.7558175], dtype=float32), 'probabilities': array([0.24418248, 0.7558175 ], dtype=float32), 'class_ids': array([1]), 'classes': array([b'1'], dtype=object), 'all_class_ids': array([0, 1], dtype=int32), 'all_classes': array([b'0', b'1'], dtype=object)}, {'logits': array([-0.8283311], dtype=float32), 'logistic': array([0.30399808], dtype=float32), 'probabilities': array([0.69600195, 0.30399808], dtype=float32), 'class_ids': array([0]), 'classes': array([b'0'], dtype=object), 'all_class_ids': array([0, 1], dtype=int32), 'all_classes': array([b'0', b'1'], dtype=object)}, {'logits': array([-2.6918201], dtype=float32), 'logistic': array([0.06345773], dtype=float32), 'probabilities': array([0.9365423 , 0.06345776], dtype=float32), 'class_ids': array([0]), 'classes': array([b'0'], dtype=object), 'all_class_ids': array([0, 1], dtype=int32), 'all_classes': array([b'0', b'1'], dtype=object)}, {'logits': array([0.84790665], dtype=float32), 'logistic': array([0.70012784], dtype=float32), 'probabilities': array([0.2998722 , 0.70012784], dtype=float32), 'class_ids': array([1]), 'classes': array([b'1'], dtype=object), 'all_class_ids': array([0, 1], dtype=int32), 'all_classes': array([b'0', b'1'], dtype=object)}, {'logits': array([0.9210015], dtype=float32), 'logistic': array([0.7152461], dtype=float32), 'probabilities': array([0.28475386, 0.7152461 ], dtype=float32), 'class_ids': array([1]), 'classes': array([b'1'], dtype=object), 'all_class_ids': array([0, 1], dtype=int32), 'all_classes': array([b'0', b'1'], dtype=object)}, {'logits': array([-2.865313], dtype=float32), 'logistic': array([0.05389518], dtype=float32), 'probabilities': array([0.9461048 , 0.05389514], dtype=float32), 'class_ids': array([0]), 'classes': array([b'0'], dtype=object), 'all_class_ids': array([0, 1], dtype=int32), 'all_classes': array([b'0', b'1'], dtype=object)}, {'logits': array([-0.35588443], dtype=float32), 'logistic': array([0.4119562], dtype=float32), 'probabilities': array([0.5880438, 0.4119562], dtype=float32), 'class_ids': array([0]), 'classes': array([b'0'], dtype=object), 'all_class_ids': array([0, 1], dtype=int32), 'all_classes': array([b'0', b'1'], dtype=object)}, {'logits': array([-1.8788923], dtype=float32), 'logistic': array([0.13251618], dtype=float32), 'probabilities': array([0.86748385, 0.13251616], dtype=float32), 'class_ids': array([0]), 'classes': array([b'0'], dtype=object), 'all_class_ids': array([0, 1], dtype=int32), 'all_classes': array([b'0', b'1'], dtype=object)}, {'logits': array([-0.8940688], dtype=float32), 'logistic': array([0.29027092], dtype=float32), 'probabilities': array([0.70972914, 0.29027092], dtype=float32), 'class_ids': array([0]), 'classes': array([b'0'], dtype=object), 'all_class_ids': array([0, 1], dtype=int32), 'all_classes': array([b'0', b'1'], dtype=object)}]\n"
          ],
          "name": "stdout"
        }
      ]
    },
    {
      "cell_type": "code",
      "metadata": {
        "colab": {
          "base_uri": "https://localhost:8080/"
        },
        "id": "BspI4dfMoc2d",
        "outputId": "a93c6d49-af58-41ae-eea6-7d7877b02e15"
      },
      "source": [
        "print(result[0])"
      ],
      "execution_count": 115,
      "outputs": [
        {
          "output_type": "stream",
          "text": [
            "{'logits': array([-2.9338822], dtype=float32), 'logistic': array([0.05050382], dtype=float32), 'probabilities': array([0.9494962 , 0.05050384], dtype=float32), 'class_ids': array([0]), 'classes': array([b'0'], dtype=object), 'all_class_ids': array([0, 1], dtype=int32), 'all_classes': array([b'0', b'1'], dtype=object)}\n"
          ],
          "name": "stdout"
        }
      ]
    },
    {
      "cell_type": "code",
      "metadata": {
        "colab": {
          "base_uri": "https://localhost:8080/"
        },
        "id": "SsjpgUGjqaCj",
        "outputId": "ecce5c78-d832-4a5d-e962-2a4246b88578"
      },
      "source": [
        "print(result[0][\"probabilities\"])"
      ],
      "execution_count": 116,
      "outputs": [
        {
          "output_type": "stream",
          "text": [
            "[0.9494962  0.05050384]\n"
          ],
          "name": "stdout"
        }
      ]
    },
    {
      "cell_type": "code",
      "metadata": {
        "colab": {
          "base_uri": "https://localhost:8080/"
        },
        "id": "QS2yoxdRqgHK",
        "outputId": "a310c81f-35ba-43d0-88ef-fd9abaa74e72"
      },
      "source": [
        "print(result[0][\"probabilities\"][1])# accessing the percentage of non-servival of first result."
      ],
      "execution_count": 117,
      "outputs": [
        {
          "output_type": "stream",
          "text": [
            "0.05050384\n"
          ],
          "name": "stdout"
        }
      ]
    },
    {
      "cell_type": "code",
      "metadata": {
        "colab": {
          "base_uri": "https://localhost:8080/"
        },
        "id": "mXyYO3_bqi5s",
        "outputId": "5c1605ab-2da3-4b98-bae3-a77471cb0488"
      },
      "source": [
        "print(dfeval.iloc[0]) #getting detail of first person "
      ],
      "execution_count": 118,
      "outputs": [
        {
          "output_type": "stream",
          "text": [
            "sex                          male\n",
            "age                            35\n",
            "n_siblings_spouses              0\n",
            "parch                           0\n",
            "fare                         8.05\n",
            "class                       Third\n",
            "deck                      unknown\n",
            "embark_town           Southampton\n",
            "alone                           y\n",
            "Name: 0, dtype: object\n"
          ],
          "name": "stdout"
        }
      ]
    },
    {
      "cell_type": "code",
      "metadata": {
        "colab": {
          "base_uri": "https://localhost:8080/"
        },
        "id": "YNjegPN4rT-X",
        "outputId": "ac12cef9-e47f-4e96-c624-74bea99856a4"
      },
      "source": [
        "print(result[0][\"probabilities\"][1])\r\n",
        "print(dfeval.iloc[1])\r\n"
      ],
      "execution_count": 119,
      "outputs": [
        {
          "output_type": "stream",
          "text": [
            "0.05050384\n",
            "sex                          male\n",
            "age                            54\n",
            "n_siblings_spouses              0\n",
            "parch                           0\n",
            "fare                      51.8625\n",
            "class                       First\n",
            "deck                            E\n",
            "embark_town           Southampton\n",
            "alone                           y\n",
            "Name: 1, dtype: object\n"
          ],
          "name": "stdout"
        }
      ]
    },
    {
      "cell_type": "code",
      "metadata": {
        "colab": {
          "base_uri": "https://localhost:8080/",
          "height": 509
        },
        "id": "CWOBFqKVKIXE",
        "outputId": "9691b229-2f7e-4513-9b80-8f2bd9a9b8fc"
      },
      "source": [
        "pred_dicts = list(linear_est.predict(eval_input_fn))\r\n",
        "probs = pd.Series([pred['probabilities'][1] for pred in pred_dicts])\r\n",
        "\r\n",
        "figure, (plot1, plot2)= plt.subplots(nrows=1, ncols=2, figsize=(10,5))\r\n",
        "plot1.hist(probs, bins=20)\r\n",
        "plot2.hist(y_eval, bins=20)\r\n",
        "plot1.set(title=\"predictecd\")\r\n",
        "plot2.set(title=\"y_eval\")"
      ],
      "execution_count": 120,
      "outputs": [
        {
          "output_type": "stream",
          "text": [
            "INFO:tensorflow:Calling model_fn.\n"
          ],
          "name": "stdout"
        },
        {
          "output_type": "stream",
          "text": [
            "/usr/local/lib/python3.7/dist-packages/tensorflow/python/keras/engine/base_layer_v1.py:1727: UserWarning: `layer.add_variable` is deprecated and will be removed in a future version. Please use `layer.add_weight` method instead.\n",
            "  warnings.warn('`layer.add_variable` is deprecated and '\n"
          ],
          "name": "stderr"
        },
        {
          "output_type": "stream",
          "text": [
            "INFO:tensorflow:Done calling model_fn.\n",
            "INFO:tensorflow:Graph was finalized.\n",
            "INFO:tensorflow:Restoring parameters from /tmp/tmpn9nxrmyf/model.ckpt-200\n",
            "INFO:tensorflow:Running local_init_op.\n",
            "INFO:tensorflow:Done running local_init_op.\n"
          ],
          "name": "stdout"
        },
        {
          "output_type": "execute_result",
          "data": {
            "text/plain": [
              "[Text(0.5, 1.0, 'y_eval')]"
            ]
          },
          "metadata": {
            "tags": []
          },
          "execution_count": 120
        },
        {
          "output_type": "display_data",
          "data": {
            "image/png": "[encoded data removed]",
            "text/plain": [
              "<Figure size 720x360 with 2 Axes>"
            ]
          },
          "metadata": {
            "tags": [],
            "needs_background": "light"
          }
        }
      ]
    },
    {
      "cell_type": "markdown",
      "metadata": {
        "id": "MU4ync4EsE7w"
      },
      "source": [
        "#Classification"
      ]
    },
    {
      "cell_type": "code",
      "metadata": {
        "colab": {
          "base_uri": "https://localhost:8080/"
        },
        "id": "BrC9qgn_ryuP",
        "outputId": "4401d796-4277-4763-9cb7-0060926d2cb8"
      },
      "source": [
        "def y(value):\r\n",
        "  print(value)\r\n",
        "\r\n",
        "x= lambda:y(10)\r\n",
        "\r\n",
        "print(x())"
      ],
      "execution_count": 121,
      "outputs": [
        {
          "output_type": "stream",
          "text": [
            "10\n",
            "None\n"
          ],
          "name": "stdout"
        }
      ]
    },
    {
      "cell_type": "code",
      "metadata": {
        "colab": {
          "base_uri": "https://localhost:8080/"
        },
        "id": "gJLHZODpME94",
        "outputId": "e0ad6bd4-d930-4043-d38b-0f80d8c1bfd9"
      },
      "source": [
        "for k in dftrain.keys(): # this method will give all of the column names.\r\n",
        "  print(k)"
      ],
      "execution_count": 122,
      "outputs": [
        {
          "output_type": "stream",
          "text": [
            "sex\n",
            "age\n",
            "n_siblings_spouses\n",
            "parch\n",
            "fare\n",
            "class\n",
            "deck\n",
            "embark_town\n",
            "alone\n"
          ],
          "name": "stdout"
        }
      ]
    },
    {
      "cell_type": "markdown",
      "metadata": {
        "id": "-vfS1Y9ZKz_E"
      },
      "source": [
        "#Deep Neural Network:"
      ]
    },
    {
      "cell_type": "code",
      "metadata": {
        "id": "RFd7oery6dbJ"
      },
      "source": [
        "\r\n",
        "from __future__ import absolute_import, division, print_function, unicode_literals\r\n",
        "\r\n",
        "\r\n",
        "import tensorflow as tf\r\n",
        "\r\n",
        "import pandas as pd"
      ],
      "execution_count": 123,
      "outputs": []
    },
    {
      "cell_type": "code",
      "metadata": {
        "id": "S9A2ooFySYxY"
      },
      "source": [
        "CSV_COLUMN_NAMES = ['SepalLength', 'SepalWidth', 'PetalLength', 'PetalWidth', 'Species']\r\n",
        "SPECIES = ['Setosa', 'Versicolor', 'Virginica']\r\n",
        "# Lets define some constants to help us later on"
      ],
      "execution_count": 124,
      "outputs": []
    },
    {
      "cell_type": "code",
      "metadata": {
        "id": "WHUCPIdGSZoH"
      },
      "source": [
        "train_path = tf.keras.utils.get_file(\r\n",
        "    \"iris_training.csv\", \"https://storage.googleapis.com/download.tensorflow.org/data/iris_training.csv\")\r\n",
        "test_path = tf.keras.utils.get_file(\r\n",
        "    \"iris_test.csv\", \"https://storage.googleapis.com/download.tensorflow.org/data/iris_test.csv\")\r\n",
        "\r\n",
        "train = pd.read_csv(train_path, names=CSV_COLUMN_NAMES, header=0)\r\n",
        "test = pd.read_csv(test_path, names=CSV_COLUMN_NAMES, header=0)\r\n",
        "# Here we use keras (a module inside of TensorFlow) to grab our datasets and read them into a pandas dataframe"
      ],
      "execution_count": 125,
      "outputs": []
    },
    {
      "cell_type": "code",
      "metadata": {
        "id": "sYmFDMbKRuj7",
        "colab": {
          "base_uri": "https://localhost:8080/",
          "height": 419
        },
        "outputId": "28d2d34f-f6f0-4fcd-e3e7-78c991f48e5c"
      },
      "source": [
        "tr = pd.read_csv(train_path, names=CSV_COLUMN_NAMES)\r\n",
        "tr"
      ],
      "execution_count": 126,
      "outputs": [
        {
          "output_type": "execute_result",
          "data": {
            "text/html": [
              "<div>\n",
              "<style scoped>\n",
              "    .dataframe tbody tr th:only-of-type {\n",
              "        vertical-align: middle;\n",
              "    }\n",
              "\n",
              "    .dataframe tbody tr th {\n",
              "        vertical-align: top;\n",
              "    }\n",
              "\n",
              "    .dataframe thead th {\n",
              "        text-align: right;\n",
              "    }\n",
              "</style>\n",
              "<table border=\"1\" class=\"dataframe\">\n",
              "  <thead>\n",
              "    <tr style=\"text-align: right;\">\n",
              "      <th></th>\n",
              "      <th>SepalLength</th>\n",
              "      <th>SepalWidth</th>\n",
              "      <th>PetalLength</th>\n",
              "      <th>PetalWidth</th>\n",
              "      <th>Species</th>\n",
              "    </tr>\n",
              "  </thead>\n",
              "  <tbody>\n",
              "    <tr>\n",
              "      <th>0</th>\n",
              "      <td>120.0</td>\n",
              "      <td>4.0</td>\n",
              "      <td>setosa</td>\n",
              "      <td>versicolor</td>\n",
              "      <td>virginica</td>\n",
              "    </tr>\n",
              "    <tr>\n",
              "      <th>1</th>\n",
              "      <td>6.4</td>\n",
              "      <td>2.8</td>\n",
              "      <td>5.6</td>\n",
              "      <td>2.2</td>\n",
              "      <td>2</td>\n",
              "    </tr>\n",
              "    <tr>\n",
              "      <th>2</th>\n",
              "      <td>5.0</td>\n",
              "      <td>2.3</td>\n",
              "      <td>3.3</td>\n",
              "      <td>1.0</td>\n",
              "      <td>1</td>\n",
              "    </tr>\n",
              "    <tr>\n",
              "      <th>3</th>\n",
              "      <td>4.9</td>\n",
              "      <td>2.5</td>\n",
              "      <td>4.5</td>\n",
              "      <td>1.7</td>\n",
              "      <td>2</td>\n",
              "    </tr>\n",
              "    <tr>\n",
              "      <th>4</th>\n",
              "      <td>4.9</td>\n",
              "      <td>3.1</td>\n",
              "      <td>1.5</td>\n",
              "      <td>0.1</td>\n",
              "      <td>0</td>\n",
              "    </tr>\n",
              "    <tr>\n",
              "      <th>...</th>\n",
              "      <td>...</td>\n",
              "      <td>...</td>\n",
              "      <td>...</td>\n",
              "      <td>...</td>\n",
              "      <td>...</td>\n",
              "    </tr>\n",
              "    <tr>\n",
              "      <th>116</th>\n",
              "      <td>5.5</td>\n",
              "      <td>2.6</td>\n",
              "      <td>4.4</td>\n",
              "      <td>1.2</td>\n",
              "      <td>1</td>\n",
              "    </tr>\n",
              "    <tr>\n",
              "      <th>117</th>\n",
              "      <td>5.7</td>\n",
              "      <td>3.0</td>\n",
              "      <td>4.2</td>\n",
              "      <td>1.2</td>\n",
              "      <td>1</td>\n",
              "    </tr>\n",
              "    <tr>\n",
              "      <th>118</th>\n",
              "      <td>4.4</td>\n",
              "      <td>2.9</td>\n",
              "      <td>1.4</td>\n",
              "      <td>0.2</td>\n",
              "      <td>0</td>\n",
              "    </tr>\n",
              "    <tr>\n",
              "      <th>119</th>\n",
              "      <td>4.8</td>\n",
              "      <td>3.0</td>\n",
              "      <td>1.4</td>\n",
              "      <td>0.1</td>\n",
              "      <td>0</td>\n",
              "    </tr>\n",
              "    <tr>\n",
              "      <th>120</th>\n",
              "      <td>5.5</td>\n",
              "      <td>2.4</td>\n",
              "      <td>3.7</td>\n",
              "      <td>1.0</td>\n",
              "      <td>1</td>\n",
              "    </tr>\n",
              "  </tbody>\n",
              "</table>\n",
              "<p>121 rows × 5 columns</p>\n",
              "</div>"
            ],
            "text/plain": [
              "     SepalLength  SepalWidth PetalLength  PetalWidth    Species\n",
              "0          120.0         4.0      setosa  versicolor  virginica\n",
              "1            6.4         2.8         5.6         2.2          2\n",
              "2            5.0         2.3         3.3         1.0          1\n",
              "3            4.9         2.5         4.5         1.7          2\n",
              "4            4.9         3.1         1.5         0.1          0\n",
              "..           ...         ...         ...         ...        ...\n",
              "116          5.5         2.6         4.4         1.2          1\n",
              "117          5.7         3.0         4.2         1.2          1\n",
              "118          4.4         2.9         1.4         0.2          0\n",
              "119          4.8         3.0         1.4         0.1          0\n",
              "120          5.5         2.4         3.7         1.0          1\n",
              "\n",
              "[121 rows x 5 columns]"
            ]
          },
          "metadata": {
            "tags": []
          },
          "execution_count": 126
        }
      ]
    },
    {
      "cell_type": "code",
      "metadata": {
        "id": "mAHVtJgOScBl",
        "colab": {
          "base_uri": "https://localhost:8080/",
          "height": 204
        },
        "outputId": "e41dfc78-bc81-4379-9ec8-7a8831292232"
      },
      "source": [
        "train_y = train.pop('Species')\r\n",
        "test_y = test.pop('Species')\r\n",
        "train.head() # the species column is now gone"
      ],
      "execution_count": 127,
      "outputs": [
        {
          "output_type": "execute_result",
          "data": {
            "text/html": [
              "<div>\n",
              "<style scoped>\n",
              "    .dataframe tbody tr th:only-of-type {\n",
              "        vertical-align: middle;\n",
              "    }\n",
              "\n",
              "    .dataframe tbody tr th {\n",
              "        vertical-align: top;\n",
              "    }\n",
              "\n",
              "    .dataframe thead th {\n",
              "        text-align: right;\n",
              "    }\n",
              "</style>\n",
              "<table border=\"1\" class=\"dataframe\">\n",
              "  <thead>\n",
              "    <tr style=\"text-align: right;\">\n",
              "      <th></th>\n",
              "      <th>SepalLength</th>\n",
              "      <th>SepalWidth</th>\n",
              "      <th>PetalLength</th>\n",
              "      <th>PetalWidth</th>\n",
              "    </tr>\n",
              "  </thead>\n",
              "  <tbody>\n",
              "    <tr>\n",
              "      <th>0</th>\n",
              "      <td>6.4</td>\n",
              "      <td>2.8</td>\n",
              "      <td>5.6</td>\n",
              "      <td>2.2</td>\n",
              "    </tr>\n",
              "    <tr>\n",
              "      <th>1</th>\n",
              "      <td>5.0</td>\n",
              "      <td>2.3</td>\n",
              "      <td>3.3</td>\n",
              "      <td>1.0</td>\n",
              "    </tr>\n",
              "    <tr>\n",
              "      <th>2</th>\n",
              "      <td>4.9</td>\n",
              "      <td>2.5</td>\n",
              "      <td>4.5</td>\n",
              "      <td>1.7</td>\n",
              "    </tr>\n",
              "    <tr>\n",
              "      <th>3</th>\n",
              "      <td>4.9</td>\n",
              "      <td>3.1</td>\n",
              "      <td>1.5</td>\n",
              "      <td>0.1</td>\n",
              "    </tr>\n",
              "    <tr>\n",
              "      <th>4</th>\n",
              "      <td>5.7</td>\n",
              "      <td>3.8</td>\n",
              "      <td>1.7</td>\n",
              "      <td>0.3</td>\n",
              "    </tr>\n",
              "  </tbody>\n",
              "</table>\n",
              "</div>"
            ],
            "text/plain": [
              "   SepalLength  SepalWidth  PetalLength  PetalWidth\n",
              "0          6.4         2.8          5.6         2.2\n",
              "1          5.0         2.3          3.3         1.0\n",
              "2          4.9         2.5          4.5         1.7\n",
              "3          4.9         3.1          1.5         0.1\n",
              "4          5.7         3.8          1.7         0.3"
            ]
          },
          "metadata": {
            "tags": []
          },
          "execution_count": 127
        }
      ]
    },
    {
      "cell_type": "code",
      "metadata": {
        "id": "TPDzxdVgShqm"
      },
      "source": [
        "def input_fn(features, labels, training=True, batch_size=256):\r\n",
        "    # Convert the inputs to a Dataset.\r\n",
        "    dataset = tf.data.Dataset.from_tensor_slices((dict(features), labels))\r\n",
        "\r\n",
        "    # Shuffle and repeat if you are in training mode.\r\n",
        "    if training:\r\n",
        "        dataset = dataset.shuffle(1000).repeat()\r\n",
        "    \r\n",
        "    return dataset.batch(batch_size)\r\n"
      ],
      "execution_count": 128,
      "outputs": []
    },
    {
      "cell_type": "code",
      "metadata": {
        "colab": {
          "base_uri": "https://localhost:8080/"
        },
        "id": "loZ8q-GHSl5P",
        "outputId": "dea667b6-c54e-40f6-b74d-9d830382aa32"
      },
      "source": [
        "# Feature columns describe how to use the input.\r\n",
        "my_feature_columns = []\r\n",
        "for key in train.keys():\r\n",
        "    my_feature_columns.append(tf.feature_column.numeric_column(key=key))\r\n",
        "print(my_feature_columns)"
      ],
      "execution_count": 129,
      "outputs": [
        {
          "output_type": "stream",
          "text": [
            "[NumericColumn(key='SepalLength', shape=(1,), default_value=None, dtype=tf.float32, normalizer_fn=None), NumericColumn(key='SepalWidth', shape=(1,), default_value=None, dtype=tf.float32, normalizer_fn=None), NumericColumn(key='PetalLength', shape=(1,), default_value=None, dtype=tf.float32, normalizer_fn=None), NumericColumn(key='PetalWidth', shape=(1,), default_value=None, dtype=tf.float32, normalizer_fn=None)]\n"
          ],
          "name": "stdout"
        }
      ]
    },
    {
      "cell_type": "code",
      "metadata": {
        "id": "_tPD7hUvSoyH",
        "colab": {
          "base_uri": "https://localhost:8080/"
        },
        "outputId": "494da39a-7799-4526-ae96-7302e8251ccc"
      },
      "source": [
        "# Build a DNN with 2 hidden layers with 30 and 10 hidden nodes each.\r\n",
        "classifier = tf.estimator.DNNClassifier(\r\n",
        "    feature_columns=my_feature_columns,\r\n",
        "    # Two hidden layers of 30 and 10 nodes respectively.\r\n",
        "    hidden_units=[30, 10],\r\n",
        "    # The model must choose between 3 classes.\r\n",
        "    n_classes=3)"
      ],
      "execution_count": 130,
      "outputs": [
        {
          "output_type": "stream",
          "text": [
            "INFO:tensorflow:Using default config.\n",
            "WARNING:tensorflow:Using temporary folder as model directory: /tmp/tmpxvx6j7x8\n",
            "INFO:tensorflow:Using config: {'_model_dir': '/tmp/tmpxvx6j7x8', '_tf_random_seed': None, '_save_summary_steps': 100, '_save_checkpoints_steps': None, '_save_checkpoints_secs': 600, '_session_config': allow_soft_placement: true\n",
            "graph_options {\n",
            "  rewrite_options {\n",
            "    meta_optimizer_iterations: ONE\n",
            "  }\n",
            "}\n",
            ", '_keep_checkpoint_max': 5, '_keep_checkpoint_every_n_hours': 10000, '_log_step_count_steps': 100, '_train_distribute': None, '_device_fn': None, '_protocol': None, '_eval_distribute': None, '_experimental_distribute': None, '_experimental_max_worker_delay_secs': None, '_session_creation_timeout_secs': 7200, '_checkpoint_save_graph_def': True, '_service': None, '_cluster_spec': ClusterSpec({}), '_task_type': 'worker', '_task_id': 0, '_global_id_in_cluster': 0, '_master': '', '_evaluation_master': '', '_is_chief': True, '_num_ps_replicas': 0, '_num_worker_replicas': 1}\n"
          ],
          "name": "stdout"
        }
      ]
    },
    {
      "cell_type": "code",
      "metadata": {
        "id": "9ii7-7DrSs4G",
        "colab": {
          "base_uri": "https://localhost:8080/"
        },
        "outputId": "07db4c60-b134-4671-8482-54504dcfe658"
      },
      "source": [
        "classifier.train(\r\n",
        "    input_fn=lambda: input_fn(train, train_y, training=True),\r\n",
        "    steps=5000)\r\n",
        "#input_fn=lambda: input_fn...: This will get dataset.batch or part of data from input function.\r\n",
        "# that data is now being given to train function to train the model which is defined in \"classifier\" constant.\r\n",
        "# 5000 steps menas to repeat this step 5000 times.\r\n",
        "# We include a lambda to avoid creating an inner function previously"
      ],
      "execution_count": 131,
      "outputs": [
        {
          "output_type": "stream",
          "text": [
            "INFO:tensorflow:Calling model_fn.\n",
            "INFO:tensorflow:Done calling model_fn.\n",
            "INFO:tensorflow:Create CheckpointSaverHook.\n",
            "INFO:tensorflow:Graph was finalized.\n",
            "INFO:tensorflow:Running local_init_op.\n",
            "INFO:tensorflow:Done running local_init_op.\n",
            "INFO:tensorflow:Calling checkpoint listeners before saving checkpoint 0...\n",
            "INFO:tensorflow:Saving checkpoints for 0 into /tmp/tmpxvx6j7x8/model.ckpt.\n",
            "INFO:tensorflow:Calling checkpoint listeners after saving checkpoint 0...\n",
            "INFO:tensorflow:loss = 1.1824696, step = 0\n",
            "INFO:tensorflow:global_step/sec: 444.349\n",
            "INFO:tensorflow:loss = 0.92457515, step = 100 (0.227 sec)\n",
            "INFO:tensorflow:global_step/sec: 613.296\n",
            "INFO:tensorflow:loss = 0.85048616, step = 200 (0.166 sec)\n",
            "INFO:tensorflow:global_step/sec: 593.037\n",
            "INFO:tensorflow:loss = 0.8197512, step = 300 (0.168 sec)\n",
            "INFO:tensorflow:global_step/sec: 600.166\n",
            "INFO:tensorflow:loss = 0.7713571, step = 400 (0.166 sec)\n",
            "INFO:tensorflow:global_step/sec: 610.904\n",
            "INFO:tensorflow:loss = 0.74697065, step = 500 (0.164 sec)\n",
            "INFO:tensorflow:global_step/sec: 630.66\n",
            "INFO:tensorflow:loss = 0.7118428, step = 600 (0.156 sec)\n",
            "INFO:tensorflow:global_step/sec: 607.346\n",
            "INFO:tensorflow:loss = 0.6959009, step = 700 (0.166 sec)\n",
            "INFO:tensorflow:global_step/sec: 627.21\n",
            "INFO:tensorflow:loss = 0.65594935, step = 800 (0.159 sec)\n",
            "INFO:tensorflow:global_step/sec: 626.173\n",
            "INFO:tensorflow:loss = 0.65234846, step = 900 (0.160 sec)\n",
            "INFO:tensorflow:global_step/sec: 612.48\n",
            "INFO:tensorflow:loss = 0.6153158, step = 1000 (0.166 sec)\n",
            "INFO:tensorflow:global_step/sec: 613.957\n",
            "INFO:tensorflow:loss = 0.63640773, step = 1100 (0.160 sec)\n",
            "INFO:tensorflow:global_step/sec: 630.061\n",
            "INFO:tensorflow:loss = 0.6084622, step = 1200 (0.159 sec)\n",
            "INFO:tensorflow:global_step/sec: 606.83\n",
            "INFO:tensorflow:loss = 0.60935915, step = 1300 (0.166 sec)\n",
            "INFO:tensorflow:global_step/sec: 596.646\n",
            "INFO:tensorflow:loss = 0.5969317, step = 1400 (0.167 sec)\n",
            "INFO:tensorflow:global_step/sec: 599.598\n",
            "INFO:tensorflow:loss = 0.57708013, step = 1500 (0.167 sec)\n",
            "INFO:tensorflow:global_step/sec: 623.5\n",
            "INFO:tensorflow:loss = 0.56080586, step = 1600 (0.160 sec)\n",
            "INFO:tensorflow:global_step/sec: 594.185\n",
            "INFO:tensorflow:loss = 0.55191135, step = 1700 (0.168 sec)\n",
            "INFO:tensorflow:global_step/sec: 602.594\n",
            "INFO:tensorflow:loss = 0.54700536, step = 1800 (0.169 sec)\n",
            "INFO:tensorflow:global_step/sec: 618.107\n",
            "INFO:tensorflow:loss = 0.53807724, step = 1900 (0.162 sec)\n",
            "INFO:tensorflow:global_step/sec: 583.468\n",
            "INFO:tensorflow:loss = 0.5375972, step = 2000 (0.172 sec)\n",
            "INFO:tensorflow:global_step/sec: 612.623\n",
            "INFO:tensorflow:loss = 0.5304863, step = 2100 (0.164 sec)\n",
            "INFO:tensorflow:global_step/sec: 623.986\n",
            "INFO:tensorflow:loss = 0.51473284, step = 2200 (0.157 sec)\n",
            "INFO:tensorflow:global_step/sec: 630.855\n",
            "INFO:tensorflow:loss = 0.5164474, step = 2300 (0.159 sec)\n",
            "INFO:tensorflow:global_step/sec: 587.401\n",
            "INFO:tensorflow:loss = 0.508549, step = 2400 (0.170 sec)\n",
            "INFO:tensorflow:global_step/sec: 562.619\n",
            "INFO:tensorflow:loss = 0.5044516, step = 2500 (0.178 sec)\n",
            "INFO:tensorflow:global_step/sec: 559.07\n",
            "INFO:tensorflow:loss = 0.4889871, step = 2600 (0.179 sec)\n",
            "INFO:tensorflow:global_step/sec: 579.557\n",
            "INFO:tensorflow:loss = 0.4875098, step = 2700 (0.173 sec)\n",
            "INFO:tensorflow:global_step/sec: 623.896\n",
            "INFO:tensorflow:loss = 0.47446615, step = 2800 (0.161 sec)\n",
            "INFO:tensorflow:global_step/sec: 619.958\n",
            "INFO:tensorflow:loss = 0.4605875, step = 2900 (0.163 sec)\n",
            "INFO:tensorflow:global_step/sec: 607.258\n",
            "INFO:tensorflow:loss = 0.46728265, step = 3000 (0.162 sec)\n",
            "INFO:tensorflow:global_step/sec: 624.368\n",
            "INFO:tensorflow:loss = 0.47036982, step = 3100 (0.163 sec)\n",
            "INFO:tensorflow:global_step/sec: 600.488\n",
            "INFO:tensorflow:loss = 0.4429407, step = 3200 (0.164 sec)\n",
            "INFO:tensorflow:global_step/sec: 601.275\n",
            "INFO:tensorflow:loss = 0.45099097, step = 3300 (0.166 sec)\n",
            "INFO:tensorflow:global_step/sec: 618.586\n",
            "INFO:tensorflow:loss = 0.43897074, step = 3400 (0.162 sec)\n",
            "INFO:tensorflow:global_step/sec: 644.83\n",
            "INFO:tensorflow:loss = 0.44574237, step = 3500 (0.155 sec)\n",
            "INFO:tensorflow:global_step/sec: 614.791\n",
            "INFO:tensorflow:loss = 0.43499345, step = 3600 (0.167 sec)\n",
            "INFO:tensorflow:global_step/sec: 631.413\n",
            "INFO:tensorflow:loss = 0.43257785, step = 3700 (0.157 sec)\n",
            "INFO:tensorflow:global_step/sec: 587.768\n",
            "INFO:tensorflow:loss = 0.43805277, step = 3800 (0.170 sec)\n",
            "INFO:tensorflow:global_step/sec: 617.69\n",
            "INFO:tensorflow:loss = 0.42637223, step = 3900 (0.162 sec)\n",
            "INFO:tensorflow:global_step/sec: 620.553\n",
            "INFO:tensorflow:loss = 0.42307487, step = 4000 (0.160 sec)\n",
            "INFO:tensorflow:global_step/sec: 639.814\n",
            "INFO:tensorflow:loss = 0.43267876, step = 4100 (0.154 sec)\n",
            "INFO:tensorflow:global_step/sec: 647.693\n",
            "INFO:tensorflow:loss = 0.42002195, step = 4200 (0.157 sec)\n",
            "INFO:tensorflow:global_step/sec: 590.703\n",
            "INFO:tensorflow:loss = 0.41467565, step = 4300 (0.167 sec)\n",
            "INFO:tensorflow:global_step/sec: 631.571\n",
            "INFO:tensorflow:loss = 0.4143481, step = 4400 (0.158 sec)\n",
            "INFO:tensorflow:global_step/sec: 617.205\n",
            "INFO:tensorflow:loss = 0.40529555, step = 4500 (0.162 sec)\n",
            "INFO:tensorflow:global_step/sec: 644.773\n",
            "INFO:tensorflow:loss = 0.40979034, step = 4600 (0.156 sec)\n",
            "INFO:tensorflow:global_step/sec: 641.263\n",
            "INFO:tensorflow:loss = 0.4056474, step = 4700 (0.159 sec)\n",
            "INFO:tensorflow:global_step/sec: 607.686\n",
            "INFO:tensorflow:loss = 0.39652783, step = 4800 (0.161 sec)\n",
            "INFO:tensorflow:global_step/sec: 636.515\n",
            "INFO:tensorflow:loss = 0.3939188, step = 4900 (0.157 sec)\n",
            "INFO:tensorflow:Calling checkpoint listeners before saving checkpoint 5000...\n",
            "INFO:tensorflow:Saving checkpoints for 5000 into /tmp/tmpxvx6j7x8/model.ckpt.\n",
            "INFO:tensorflow:Calling checkpoint listeners after saving checkpoint 5000...\n",
            "INFO:tensorflow:Loss for final step: 0.40344602.\n"
          ],
          "name": "stdout"
        },
        {
          "output_type": "execute_result",
          "data": {
            "text/plain": [
              "<tensorflow_estimator.python.estimator.canned.dnn.DNNClassifierV2 at 0x7ff018470350>"
            ]
          },
          "metadata": {
            "tags": []
          },
          "execution_count": 131
        }
      ]
    },
    {
      "cell_type": "code",
      "metadata": {
        "colab": {
          "base_uri": "https://localhost:8080/"
        },
        "id": "MC4fmo1cP4bV",
        "outputId": "c1198fa2-63e3-439d-ee5d-d50a09b4e7b1"
      },
      "source": [
        "#lambda is one line function, it performs tasks whatever after the colon is.\r\n",
        "\r\n",
        "x = lambda : print(\"hi\")\r\n",
        "x()"
      ],
      "execution_count": 132,
      "outputs": [
        {
          "output_type": "stream",
          "text": [
            "hi\n"
          ],
          "name": "stdout"
        }
      ]
    },
    {
      "cell_type": "code",
      "metadata": {
        "colab": {
          "base_uri": "https://localhost:8080/"
        },
        "id": "hGapP5CpRFQ1",
        "outputId": "9b0fcc9f-f36e-4cbb-cabf-5b1d61a4c22f"
      },
      "source": [
        "x = lambda a : a + 10 # here a is the argument of x or of lambda. Any variable on left side of column will be considered as column.\r\n",
        "print(x(5))"
      ],
      "execution_count": 133,
      "outputs": [
        {
          "output_type": "stream",
          "text": [
            "15\n"
          ],
          "name": "stdout"
        }
      ]
    },
    {
      "cell_type": "code",
      "metadata": {
        "id": "YbZvAV5ZSyRP",
        "colab": {
          "base_uri": "https://localhost:8080/"
        },
        "outputId": "c598e9b7-f611-4a92-e874-af3d8f9bc410"
      },
      "source": [
        "eval_result = classifier.evaluate(\r\n",
        "    input_fn=lambda: input_fn(test, test_y, training=False)) #lambda is one line function, it performs tasks whatever after the colon is.\r\n",
        "#.evaluate will evaluate the model by using test data. In this, it will find that how much model is accurate.\r\n",
        "print('\\nTest set accuracy: {accuracy:0.3f}\\n'.format(**eval_result))"
      ],
      "execution_count": 134,
      "outputs": [
        {
          "output_type": "stream",
          "text": [
            "INFO:tensorflow:Calling model_fn.\n",
            "INFO:tensorflow:Done calling model_fn.\n",
            "INFO:tensorflow:Starting evaluation at 2021-03-10T04:20:59Z\n",
            "INFO:tensorflow:Graph was finalized.\n",
            "INFO:tensorflow:Restoring parameters from /tmp/tmpxvx6j7x8/model.ckpt-5000\n",
            "INFO:tensorflow:Running local_init_op.\n",
            "INFO:tensorflow:Done running local_init_op.\n",
            "INFO:tensorflow:Inference Time : 0.20847s\n",
            "INFO:tensorflow:Finished evaluation at 2021-03-10-04:21:00\n",
            "INFO:tensorflow:Saving dict for global step 5000: accuracy = 0.8666667, average_loss = 0.4645402, global_step = 5000, loss = 0.4645402\n",
            "INFO:tensorflow:Saving 'checkpoint_path' summary for global step 5000: /tmp/tmpxvx6j7x8/model.ckpt-5000\n",
            "\n",
            "Test set accuracy: 0.867\n",
            "\n"
          ],
          "name": "stdout"
        }
      ]
    },
    {
      "cell_type": "code",
      "metadata": {
        "id": "FjChVqtMthQZ",
        "colab": {
          "base_uri": "https://localhost:8080/"
        },
        "outputId": "386c7117-6d99-4069-b83c-d5495c5c66c4"
      },
      "source": [
        "valid = True\r\n",
        "while valid:\r\n",
        "  x=5\r\n",
        "  y=input(x)\r\n",
        "  if not y.isdigit() : valid= False\r\n",
        "  print(y)"
      ],
      "execution_count": 135,
      "outputs": [
        {
          "output_type": "stream",
          "text": [
            "5j\n",
            "j\n"
          ],
          "name": "stdout"
        }
      ]
    },
    {
      "cell_type": "code",
      "metadata": {
        "id": "hWrvRamBtvEq",
        "colab": {
          "base_uri": "https://localhost:8080/"
        },
        "outputId": "5b6223d7-48c2-4823-eed0-eb06b823c940"
      },
      "source": [
        "# Feature columns describe how to use the input.\r\n",
        "my_feature_columns = []\r\n",
        "z ={\"z\":2,\"c\":4,\"d\":5,\"f\":5,\"r\":3,\"g\":3}\r\n",
        "for key in z.keys():\r\n",
        "    my_feature_columns.append(tf.feature_column.numeric_column(key=key))\r\n",
        "print(my_feature_columns)"
      ],
      "execution_count": 136,
      "outputs": [
        {
          "output_type": "stream",
          "text": [
            "[NumericColumn(key='z', shape=(1,), default_value=None, dtype=tf.float32, normalizer_fn=None), NumericColumn(key='c', shape=(1,), default_value=None, dtype=tf.float32, normalizer_fn=None), NumericColumn(key='d', shape=(1,), default_value=None, dtype=tf.float32, normalizer_fn=None), NumericColumn(key='f', shape=(1,), default_value=None, dtype=tf.float32, normalizer_fn=None), NumericColumn(key='r', shape=(1,), default_value=None, dtype=tf.float32, normalizer_fn=None), NumericColumn(key='g', shape=(1,), default_value=None, dtype=tf.float32, normalizer_fn=None)]\n"
          ],
          "name": "stdout"
        }
      ]
    },
    {
      "cell_type": "code",
      "metadata": {
        "id": "XwWS9SPfUioe",
        "colab": {
          "base_uri": "https://localhost:8080/"
        },
        "outputId": "b96698aa-a503-402c-d6ad-576f68c8e7d9"
      },
      "source": [
        "for x, y in zip(range(2,4), range(4,6)):\r\n",
        "\r\n",
        "\tprint(x*y)\r\n"
      ],
      "execution_count": 137,
      "outputs": [
        {
          "output_type": "stream",
          "text": [
            "8\n",
            "15\n"
          ],
          "name": "stdout"
        }
      ]
    },
    {
      "cell_type": "code",
      "metadata": {
        "colab": {
          "base_uri": "https://localhost:8080/"
        },
        "id": "ovtd68AanXWe",
        "outputId": "751a9216-2a61-4748-cf3d-f8830336832b"
      },
      "source": [
        "def input_fn(features, batch_size=256):\r\n",
        "    # Convert the inputs to a Dataset without labels.\r\n",
        "    return tf.data.Dataset.from_tensor_slices(dict(features)).batch(batch_size)\r\n",
        "\r\n",
        "features = ['SepalLength', 'SepalWidth', 'PetalLength', 'PetalWidth']\r\n",
        "predict = {}\r\n",
        "\r\n",
        "print(\"Please type numeric values as prompted.\")\r\n",
        "for feature in features:\r\n",
        "  valid = True\r\n",
        "  while valid: \r\n",
        "    val = input(feature + \": \")\r\n",
        "    if not val.isdigit(): valid = False\r\n",
        "\r\n",
        "  predict[feature] = [float(val)]\r\n",
        "\r\n",
        "predictions = classifier.predict(input_fn=lambda: input_fn(predict))\r\n",
        "\r\n",
        "print(f\"predictions are {predictions}\")\r\n",
        "for pred_dict in predictions:\r\n",
        "  \r\n",
        "  print(f\"predict taker is {pred_dict}\")\r\n",
        "  # check o/p of above print, it is showing class many other things along with the array of class_ids and probability. Now, class_ids \r\n",
        "  #will show the probability ONLY of that category (name of flowers in specie) of feature \"specie\" which is most suitable. \r\n",
        "  #E.g, 'class_ids': array([0/1/2]), within array it could be any value among these three because there are three n_classes which are defined \r\n",
        "  #on the basis of total categories within specie column.\r\n",
        "\r\n",
        "  class_id = pred_dict['class_ids'][0]\r\n",
        "  #As there is only one value in an array of class_id which is at position [0], Therefore ['class_id'][0].\r\n",
        "  print(f\"class id is {class_id}\")\r\n",
        "  \r\n",
        "  probability = pred_dict['probabilities'][class_id]\r\n",
        "  print(f\"probability is {probability}\")\r\n",
        "  # now class_id value will be any from 0-2 therefore we will get the percentage of probability of that category by using the value of \r\n",
        "  #class_id which is dependent upon class_ids.\r\n",
        "\r\n",
        "  print('Prediction is \"{}\" ({:.1f}%)'.format(\r\n",
        "        SPECIES[class_id], 100 * probability))\r\n",
        "  #here, value of class_id will also be used to get the name of that category which is most probable."
      ],
      "execution_count": 157,
      "outputs": [
        {
          "output_type": "stream",
          "text": [
            "Please type numeric values as prompted.\n",
            "SepalLength: 6.9\n",
            "SepalWidth: 3.4\n",
            "PetalLength: 5.8\n",
            "PetalWidth: 2.8\n",
            "predictions are <generator object Estimator.predict at 0x7ff0185eb250>\n",
            "INFO:tensorflow:Calling model_fn.\n",
            "INFO:tensorflow:Done calling model_fn.\n",
            "INFO:tensorflow:Graph was finalized.\n",
            "INFO:tensorflow:Restoring parameters from /tmp/tmpxvx6j7x8/model.ckpt-5000\n",
            "INFO:tensorflow:Running local_init_op.\n",
            "INFO:tensorflow:Done running local_init_op.\n",
            "predict taker is {'logits': array([-0.4705813,  3.0165164,  3.972051 ], dtype=float32), 'probabilities': array([0.00842536, 0.27543283, 0.7161418 ], dtype=float32), 'class_ids': array([2]), 'classes': array([b'2'], dtype=object), 'all_class_ids': array([0, 1, 2], dtype=int32), 'all_classes': array([b'0', b'1', b'2'], dtype=object)}\n",
            "class id is 2\n",
            "probability is 0.7161418199539185\n",
            "Prediction is \"Virginica\" (71.6%)\n"
          ],
          "name": "stdout"
        }
      ]
    },
    {
      "cell_type": "code",
      "metadata": {
        "id": "q9ndAiyrv8-e"
      },
      "source": [
        ""
      ],
      "execution_count": 1,
      "outputs": []
    },
    {
      "cell_type": "code",
      "metadata": {
        "id": "57iR3C7Cv2p-"
      },
      "source": [
        ""
      ],
      "execution_count": null,
      "outputs": []
    },
    {
      "cell_type": "code",
      "metadata": {
        "id": "ld-TLVY6nZPe"
      },
      "source": [
        ""
      ],
      "execution_count": null,
      "outputs": []
    }
  ]
}